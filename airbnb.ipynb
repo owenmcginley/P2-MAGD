{
 "cells": [
  {
   "cell_type": "code",
   "execution_count": 1,
   "metadata": {},
   "outputs": [],
   "source": [
    "import pandas as pd\n",
    "import numpy as np\n",
    "#import geopandas as gpd\n",
    "import matplotlib.pyplot as plt\n",
    "import datetime as dt\n"
   ]
  },
  {
   "cell_type": "markdown",
   "metadata": {},
   "source": [
    "Cargamos las bases de datos"
   ]
  },
  {
   "cell_type": "code",
   "execution_count": null,
   "metadata": {},
   "outputs": [
    {
     "name": "stderr",
     "output_type": "stream",
     "text": [
      "/var/folders/zr/w9ql8lf13n3bs53_49jy16qr0000gn/T/ipykernel_3908/51983684.py:2: DtypeWarning: Columns (4) have mixed types. Specify dtype option on import or set low_memory=False.\n",
      "  calendar = pd.read_csv(f\"{dir_data}calendar_fin.csv\")\n",
      "/var/folders/zr/w9ql8lf13n3bs53_49jy16qr0000gn/T/ipykernel_3908/51983684.py:7: DtypeWarning: Columns (29) have mixed types. Specify dtype option on import or set low_memory=False.\n",
      "  listings_gz = pd.read_csv(f\"{dir_data}listings_gz_fin.csv\")\n"
     ]
    }
   ],
   "source": [
    "dir_data = \"../airbnb_final_csv/\"\n",
    "calendar = pd.read_csv(f\"{dir_data}calendar_fin.csv\")\n",
    "listings = pd.read_csv(f\"{dir_data}listings_fin.csv\")\n",
    "neighbourhoods = pd.read_csv(f\"{dir_data}neighbourhoods_fin.csv\")\n",
    "reviews = pd.read_csv(f\"{dir_data}reviews_fin.csv\")\n",
    "reviews_gz = pd.read_csv(f\"{dir_data}reviews_gz_fin.csv\")\n",
    "listings_gz = pd.read_csv(f\"{dir_data}listings_gz_fin.csv\")"
   ]
  },
  {
   "cell_type": "markdown",
   "metadata": {},
   "source": [
    "Procesamos los datos para poder cargarlos a la base de datos. Empezamos con dos datos de listings_gz"
   ]
  },
  {
   "cell_type": "code",
   "execution_count": null,
   "metadata": {},
   "outputs": [
    {
     "name": "stdout",
     "output_type": "stream",
     "text": [
      "0        0.0\n",
      "1        0.0\n",
      "2        0.0\n",
      "3        NaN\n",
      "4        0.0\n",
      "        ... \n",
      "93596    0.0\n",
      "93597    0.0\n",
      "93598    0.0\n",
      "93599    0.0\n",
      "93600    0.0\n",
      "Name: host_is_superhost, Length: 93601, dtype: float64\n",
      "0        1.0\n",
      "1        1.0\n",
      "2        1.0\n",
      "3        1.0\n",
      "4        1.0\n",
      "        ... \n",
      "93596    1.0\n",
      "93597    1.0\n",
      "93598    1.0\n",
      "93599    1.0\n",
      "93600    1.0\n",
      "Name: host_has_profile_pic, Length: 93601, dtype: float64\n",
      "0        1.0\n",
      "1        1.0\n",
      "2        1.0\n",
      "3        1.0\n",
      "4        1.0\n",
      "        ... \n",
      "93596    1.0\n",
      "93597    1.0\n",
      "93598    1.0\n",
      "93599    1.0\n",
      "93600    1.0\n",
      "Name: host_has_profile_pic, Length: 93601, dtype: float64\n"
     ]
    },
    {
     "name": "stderr",
     "output_type": "stream",
     "text": [
      "/var/folders/zr/w9ql8lf13n3bs53_49jy16qr0000gn/T/ipykernel_3908/1341696252.py:3: FutureWarning: Downcasting behavior in `replace` is deprecated and will be removed in a future version. To retain the old behavior, explicitly call `result.infer_objects(copy=False)`. To opt-in to the future behavior, set `pd.set_option('future.no_silent_downcasting', True)`\n",
      "  listings_gz[\"host_is_superhost\"] = listings_gz[\"host_is_superhost\"].replace({\"f\":0, \"t\":1, })\n",
      "/var/folders/zr/w9ql8lf13n3bs53_49jy16qr0000gn/T/ipykernel_3908/1341696252.py:4: FutureWarning: Downcasting behavior in `replace` is deprecated and will be removed in a future version. To retain the old behavior, explicitly call `result.infer_objects(copy=False)`. To opt-in to the future behavior, set `pd.set_option('future.no_silent_downcasting', True)`\n",
      "  listings_gz[\"host_has_profile_pic\"] = listings_gz[\"host_has_profile_pic\"].replace({\"f\":0, \"t\":1, })\n",
      "/var/folders/zr/w9ql8lf13n3bs53_49jy16qr0000gn/T/ipykernel_3908/1341696252.py:5: FutureWarning: Downcasting behavior in `replace` is deprecated and will be removed in a future version. To retain the old behavior, explicitly call `result.infer_objects(copy=False)`. To opt-in to the future behavior, set `pd.set_option('future.no_silent_downcasting', True)`\n",
      "  listings_gz[\"host_identity_verified\"] = listings_gz[\"host_identity_verified\"].replace({\"f\":0, \"t\":1, })\n"
     ]
    }
   ],
   "source": [
    "# Proceso las columnas que deberian que son booleanas y tienen \"f\" y \"t\" como valor:\n",
    "\n",
    "listings_gz[\"host_is_superhost\"] = listings_gz[\"host_is_superhost\"].replace({\"f\":0, \"t\":1, })\n",
    "listings_gz[\"host_has_profile_pic\"] = listings_gz[\"host_has_profile_pic\"].replace({\"f\":0, \"t\":1, })\n",
    "listings_gz[\"host_identity_verified\"] = listings_gz[\"host_identity_verified\"].replace({\"f\":0, \"t\":1, })\n",
    "\n",
    "# Tratamos los valores nulos:\n",
    "\n",
    "print(listings_gz[\"host_is_superhost\"])\n",
    "print(listings_gz[\"host_has_profile_pic\"])\n",
    "print(listings_gz[\"host_has_profile_pic\"])"
   ]
  },
  {
   "cell_type": "markdown",
   "metadata": {},
   "source": [
    "Ahora vamos con las variables numericas"
   ]
  },
  {
   "cell_type": "code",
   "execution_count": 10,
   "metadata": {},
   "outputs": [],
   "source": [
    "# Empezamos quitandole el simbolo del porcentaje y diviendiendo entre 100 a las variables host_response_rate y a host_\n",
    "# Para ello utilizamos una funcion:\n",
    "\n",
    "def conversion_porcentajes(name):\n",
    "    name = str(name).replace(\"%\",\"\")\n",
    "    name = float(name)/100\n",
    "    return name\n",
    "\n",
    "listings_gz[\"host_response_rate\"] = listings_gz[\"host_response_rate\"].apply(conversion_porcentajes)\n",
    "listings_gz[\"host_acceptance_rate\"] = listings_gz[\"host_acceptance_rate\"].apply(conversion_porcentajes)"
   ]
  },
  {
   "cell_type": "code",
   "execution_count": 11,
   "metadata": {},
   "outputs": [],
   "source": [
    "# Los nombres de las columnas correctas, EN ORDEN\n",
    "proc_host_column_names_new = ['id', 'url', 'name', 'host_since', 'location', 'host_about', 'response_time', 'response_rate','acceptance_rate', 'is_superhost', \n",
    "                            'thumbnail_url', 'picture_url', 'listings_count', 'total_listings_count', 'verifications', 'has_profile_pic','identity_verified', \n",
    "                            'calculated_host_listings_count','calculated_host_listings_count_entire_homes', 'calculated_host_listings_count_private_rooms',\n",
    "                            'calculated_host_listings_count_shared_rooms']\n",
    "\n",
    "# Creamos el dataframe, EN EL ORDEN ANTERIOR\n",
    "proc_hosts = listings_gz[[\"host_id\", \"host_url\", \"host_name\", \"host_since\", \"host_location\", \"host_about\", \"host_response_time\", \"host_response_rate\", \"host_acceptance_rate\", \n",
    "                        \"host_is_superhost\", \"host_thumbnail_url\", \"host_picture_url\", \"host_listings_count\", \"host_total_listings_count\", \"host_verifications\",\n",
    "                        \"host_has_profile_pic\", \"host_identity_verified\", \"calculated_host_listings_count\", \"calculated_host_listings_count_entire_homes\",\n",
    "                        \"calculated_host_listings_count_private_rooms\", \"calculated_host_listings_count_shared_rooms\"]]\n",
    "\n",
    "#Con esto renombro las columnas\n",
    "proc_hosts = proc_hosts.set_axis(proc_host_column_names_new, axis=1)\n",
    "\n",
    "# Esto es una prueba para ver si sale bien\n",
    "proc_hosts.to_csv('proc_host.csv', index=False)"
   ]
  },
  {
   "cell_type": "code",
   "execution_count": 12,
   "metadata": {},
   "outputs": [],
   "source": [
    "# Create dataframes from SQL tables\n",
    "# Calendar table\n",
    "proc_calendar = pd.DataFrame(columns=[\n",
    "    'listing_id', 'date', 'available', 'price', 'adjusted_price', 'minimum_nights', 'maximum_nights'\n",
    "])\n",
    "\n",
    "# Property type table\n",
    "proc_property_type = pd.DataFrame(columns=['id', 'type'])\n",
    "\n",
    "# Listings table\n",
    "proc_listings = pd.DataFrame(columns=[\n",
    "    'id', 'name', 'host_id', 'neighbourhood_group', 'neighbourhood', 'city', 'latitude', 'longitude',\n",
    "    'room_type', 'property_type', 'price', 'minimum_nights', 'maximum_nights', 'license'\n",
    "])\n",
    "\n",
    "# Listings description table\n",
    "proc_listings_description = pd.DataFrame(columns=[\n",
    "    'listing_id', 'description', 'picture_url', 'accommodates', 'bathrooms', 'bathrooms_text',\n",
    "    'bedrooms', 'beds', 'minimum_minimum_nights', 'maximum_minimum_nights', 'minimum_maximum_nights',\n",
    "    'maximum_maximum_nights', 'minimum_nights_avg_ntm', 'maximum_nights_avg_ntm'\n",
    "])\n",
    "\n",
    "# Listings amenities table\n",
    "proc_listings_amenities = pd.DataFrame(columns=['listing_id', 'amenity'])\n",
    "\n",
    "# Listings availability table\n",
    "proc_listings_availability = pd.DataFrame(columns=[\n",
    "    'listing_id', 'minimum_minimum_nights', 'maximum_minimum_nights', 'minimum_maximum_nights',\n",
    "    'maximum_maximum_nights', 'minimum_nights_avg_ntm', 'maximum_nights_avg_ntm', 'calendar_updated',\n",
    "    'has_availability', 'availability_30', 'availability_60', 'availability_90', 'availability_365',\n",
    "    'instant_bookable'\n",
    "])\n",
    "\n",
    "# Listings reviews table\n",
    "proc_listings_reviews = pd.DataFrame(columns=[\n",
    "    'listing_id', 'number_of_reviews', 'number_of_reviews_ltm', 'number_of_reviews_l30d',\n",
    "    'first_review', 'last_review', 'review_scores_rating', 'review_scores_accuracy',\n",
    "    'review_scores_cleanliness', 'review_scores_checkin', 'review_scores_communication',\n",
    "    'review_scores_location', 'review_scores_value', 'reviews_per_month'\n",
    "])\n",
    "\n",
    "# Neighborhood groups table\n",
    "proc_neighborhood_groups = pd.DataFrame(columns=['id', 'name', 'neighbourhood_group_cleansed'])\n",
    "\n",
    "# Neighborhoods table\n",
    "proc_neighborhoods = pd.DataFrame(columns=[\n",
    "    'id', 'name', 'neighborhood_cleansed', 'neighborhood_group', 'overview', 'city'\n",
    "])\n",
    "\n",
    "# Countries table\n",
    "proc_countries = pd.DataFrame(columns=['iso_3166_1', 'name'])\n",
    "\n",
    "# Cities table\n",
    "proc_cities = pd.DataFrame(columns=['id', 'name', 'country_code'])\n",
    "\n",
    "# Hosts table\n",
    "proc_hosts = pd.DataFrame(columns=[\n",
    "    'id', 'url', 'name', 'host_since', 'location', 'host_about', 'response_time', 'response_rate',\n",
    "    'acceptance_rate', 'is_superhost', 'thumbnail_url', 'picture_url', 'neighborhood',\n",
    "    'listings_count', 'total_listings_count', 'verifications', 'has_profile_pic',\n",
    "    'identity_verified', 'calculated_host_listings_count',\n",
    "    'calculated_host_listings_count_entire_homes', 'calculated_host_listings_count_private_rooms',\n",
    "    'calculated_host_listings_count_shared_rooms'\n",
    "])\n",
    "\n",
    "proc_hosts = listings_gz[[\"host_url\", \"host_name\", \"host_since\", \"host_location\", \"host_about\", \"host_response_time\", \"host_response_rate\", \"host_acceptance_rate\", \n",
    "                            \"host_is_superhost\", \"host_thumbnail_url\", \"host_picture_url\", \"host_listings_count\", \"host_total_listings_count\", \"host_verifications\",\n",
    "                            \"host_has_profile_pic\", \"host_identity_verified\", \"calculated_host_listings_count\", \"calculated_host_listings_count_entire_homes\",\n",
    "                            \"calculated_host_listings_count_private_rooms\", \"calculated_host_listings_count_shared_rooms\"]]\n",
    "\n",
    "proc_hosts.to_csv('proc_host.csv', index=False)\n",
    "\n",
    "\n",
    "# Users table\n",
    "proc_users = pd.DataFrame(columns=['id', 'name'])\n",
    "\n",
    "# Reviews table\n",
    "proc_reviews = pd.DataFrame(columns=['id', 'listing_id', 'date', 'reviewer_id', 'comments'])"
   ]
  },
  {
   "cell_type": "code",
   "execution_count": 18,
   "metadata": {},
   "outputs": [],
   "source": [
    "# Create a dictionary to map information from listings to the new dataframes\n",
    "listings_info = {\n",
    "    'proc_listings_description': {\n",
    "        'listings_id': listings_gz['id'],\n",
    "        'description': listings_gz['description'],\n",
    "        'picture_url': listings_gz['picture_url'],\n",
    "        'accommodates': listings_gz['accommodates'],\n",
    "        'bathrooms': listings_gz['bathrooms'],\n",
    "        'bathrooms_text': listings_gz['bathrooms_text'],\n",
    "        'bedrooms': listings_gz['bedrooms'],\n",
    "        'beds': listings_gz['beds'],\n",
    "        'minimum_minimum_nights': listings_gz['minimum_minimum_nights'],\n",
    "        'maximum_minimum_nights': listings_gz['maximum_minimum_nights'],\n",
    "        'minimum_maximum_nights': listings_gz['minimum_maximum_nights'],\n",
    "        'maximum_maximum_nights': listings_gz['maximum_maximum_nights'],\n",
    "        'minimum_nights_avg_ntm': listings_gz['minimum_nights_avg_ntm'],\n",
    "        'maximum_nights_avg_ntm': listings_gz['maximum_nights_avg_ntm']\n",
    "    },\n",
    "    'proc_listings': {\n",
    "        'id': listings_gz['id'],\n",
    "        'name': listings_gz['name'],\n",
    "        'host_id': listings_gz['host_id'],\n",
    "        'neighbourhood_group': listings_gz['neighbourhood_group_cleansed'],\n",
    "        'neighbourhood': listings_gz['neighbourhood_cleansed'],\n",
    "        'city': listings_gz['city'],\n",
    "        'latitude': listings_gz['latitude'],\n",
    "        'longitude': listings_gz['longitude'],\n",
    "        'room_type': listings_gz['room_type'],\n",
    "        'property_type': listings_gz['property_type'],\n",
    "        'price': listings_gz['price'],\n",
    "        'minimum_nights': listings_gz['minimum_nights'],\n",
    "        'maximum_nights': listings_gz['maximum_nights'],\n",
    "        'license': listings_gz['license']\n",
    "    }, \n",
    "    'proc_listings_amenities': {\n",
    "        'listing_id': listings_gz['id'],\n",
    "        'amenity': listings_gz['amenities']\n",
    "    }\n",
    "}\n",
    "# Map the dictionary to the new dataframes\n",
    "for key, value in listings_info.items():\n",
    "    for col, series in value.items():\n",
    "        if key == 'proc_listings_description':\n",
    "            proc_listings[col] = series\n",
    "        elif key == 'proc_listings':\n",
    "            proc_listings[col] = series\n",
    "        elif key == 'proc_listings_amenities':\n",
    "            proc_listings_amenities[col] = series\n",
    "\n",
    "# Create a dictionary to map information from calendar to the new dataframes\n",
    "calendar_info = {\n",
    "    'proc_calendar': {\n",
    "        'listing_id': calendar['listing_id'],\n",
    "        'date': calendar['date'],\n",
    "        'available': calendar['available'],\n",
    "        'price': calendar['price'],\n",
    "        'adjusted_price': calendar['adjusted_price'],\n",
    "        'minimum_nights': calendar['minimum_nights'],\n",
    "        'maximum_nights': calendar['maximum_nights']\n",
    "    }\n",
    "}\n",
    "# Map the dictionary to the new dataframes\n",
    "for key, value in calendar_info.items():\n",
    "    for col, series in value.items():\n",
    "        if key == 'proc_calendar':\n",
    "            proc_calendar[col] = series\n",
    "\n",
    "neighbourhoods_info = {\n",
    "    'proc_neighborhoods': {\n",
    "        'neighborhood_cleansed': neighbourhoods['neighbourhood'],\n",
    "        'neighborhood_group': neighbourhoods['neighbourhood_group'],\n",
    "        'city': neighbourhoods['city'],\n",
    "    }\n",
    "}\n",
    "\n",
    "# Map the dictionary to the new dataframes\n",
    "for key, value in neighbourhoods_info.items():\n",
    "    for col, series in value.items():\n",
    "        if key == 'proc_neighborhoods':\n",
    "            proc_neighborhoods[col] = series\n",
    "    "
   ]
  },
  {
   "cell_type": "code",
   "execution_count": 19,
   "metadata": {},
   "outputs": [],
   "source": [
    "cities = ['barcelona', 'madrid', 'malaga', 'mallorca', 'menorca', 'sevilla', 'valencia']\n",
    "proc_cities['id'] = range(1, len(cities) + 1)\n",
    "proc_cities['name'] = cities\n",
    "proc_cities['country_code'] = 'ES'"
   ]
  },
  {
   "cell_type": "code",
   "execution_count": 14,
   "metadata": {},
   "outputs": [],
   "source": [
    "proc_countries['iso_3166_1'] = 'ES'\n",
    "proc_countries['name'] = 'Spain'"
   ]
  },
  {
   "cell_type": "code",
   "execution_count": 15,
   "metadata": {},
   "outputs": [],
   "source": [
    "proc_neighborhood_groups['neighbourhood_group_cleansed'] = neighbourhoods['neighbourhood_group'].unique()\n",
    "proc_neighborhood_groups['id'] = range(1, len(proc_neighborhood_groups) + 1)"
   ]
  },
  {
   "cell_type": "code",
   "execution_count": 16,
   "metadata": {},
   "outputs": [],
   "source": [
    "proc_neighborhoods['id'] = range(1, len(neighbourhoods) + 1)\n",
    "mapping = dict(proc_neighborhood_groups[['neighbourhood_group_cleansed', 'id']].values)\n",
    "proc_neighborhoods['neighborhood_group'] = proc_neighborhoods['neighborhood_group'].map(mapping)"
   ]
  },
  {
   "cell_type": "code",
   "execution_count": 17,
   "metadata": {},
   "outputs": [],
   "source": [
    "boolean_map = {'t': True, 'f': False}\n",
    "proc_calendar['available'] = proc_calendar['available'].map(boolean_map)\n",
    "proc_calendar['price'] = proc_calendar['price'].str.replace('$', '').str.replace(',', '').astype(float)\n",
    "proc_calendar['adjusted_price'] = proc_calendar['adjusted_price'].str.replace('$', '').str.replace(',', '').astype(float)\n",
    "proc_calendar['minimum_nights'] = proc_calendar['minimum_nights'].fillna(0).astype(int)\n",
    "proc_calendar['maximum_nights'] = proc_calendar['maximum_nights'].fillna(0).astype(int)"
   ]
  }
 ],
 "metadata": {
  "kernelspec": {
   "display_name": "Summer_Project",
   "language": "python",
   "name": "python3"
  },
  "language_info": {
   "codemirror_mode": {
    "name": "ipython",
    "version": 3
   },
   "file_extension": ".py",
   "mimetype": "text/x-python",
   "name": "python",
   "nbconvert_exporter": "python",
   "pygments_lexer": "ipython3",
   "version": "3.12.7"
  }
 },
 "nbformat": 4,
 "nbformat_minor": 2
}
