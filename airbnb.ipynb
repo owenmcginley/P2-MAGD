{
 "cells": [
  {
   "cell_type": "code",
   "execution_count": 59,
   "metadata": {},
   "outputs": [],
   "source": [
    "import pandas as pd\n",
    "import numpy as np\n",
    "#import geopandas as gpd\n",
    "import matplotlib.pyplot as plt\n",
    "import datetime as dt\n"
   ]
  },
  {
   "cell_type": "markdown",
   "metadata": {},
   "source": [
    "Cargamos las bases de datos"
   ]
  },
  {
   "cell_type": "code",
   "execution_count": 60,
   "metadata": {},
   "outputs": [
    {
     "name": "stderr",
     "output_type": "stream",
     "text": [
      "/tmp/ipykernel_39031/473357094.py:2: DtypeWarning: Columns (4) have mixed types. Specify dtype option on import or set low_memory=False.\n",
      "  calendar = pd.read_csv(f\"{dir_data}calendar_fin.csv\")\n",
      "/tmp/ipykernel_39031/473357094.py:7: DtypeWarning: Columns (29) have mixed types. Specify dtype option on import or set low_memory=False.\n",
      "  listings_gz = pd.read_csv(f\"{dir_data}listings_gz_fin.csv\")\n"
     ]
    }
   ],
   "source": [
    "dir_data = \"../airbnb_final_csv/\"\n",
    "calendar = pd.read_csv(f\"{dir_data}calendar_fin.csv\")\n",
    "listings = pd.read_csv(f\"{dir_data}listings_fin.csv\")\n",
    "neighbourhoods = pd.read_csv(f\"{dir_data}neighbourhoods_fin.csv\")\n",
    "reviews = pd.read_csv(f\"{dir_data}reviews_fin.csv\")\n",
    "reviews_gz = pd.read_csv(f\"{dir_data}reviews_gz_fin.csv\")\n",
    "listings_gz = pd.read_csv(f\"{dir_data}listings_gz_fin.csv\")"
   ]
  },
  {
   "cell_type": "markdown",
   "metadata": {},
   "source": [
    "Procesamos los datos para poder cargarlos a la base de datos. Empezamos con dos datos de listings_gz"
   ]
  },
  {
   "cell_type": "code",
   "execution_count": 61,
   "metadata": {},
   "outputs": [
    {
     "name": "stderr",
     "output_type": "stream",
     "text": [
      "/tmp/ipykernel_39031/1341696252.py:3: FutureWarning: Downcasting behavior in `replace` is deprecated and will be removed in a future version. To retain the old behavior, explicitly call `result.infer_objects(copy=False)`. To opt-in to the future behavior, set `pd.set_option('future.no_silent_downcasting', True)`\n",
      "  listings_gz[\"host_is_superhost\"] = listings_gz[\"host_is_superhost\"].replace({\"f\":0, \"t\":1, })\n"
     ]
    },
    {
     "name": "stdout",
     "output_type": "stream",
     "text": [
      "0        0.0\n",
      "1        0.0\n",
      "2        0.0\n",
      "3        NaN\n",
      "4        0.0\n",
      "        ... \n",
      "93596    0.0\n",
      "93597    0.0\n",
      "93598    0.0\n",
      "93599    0.0\n",
      "93600    0.0\n",
      "Name: host_is_superhost, Length: 93601, dtype: float64\n",
      "0        1.0\n",
      "1        1.0\n",
      "2        1.0\n",
      "3        1.0\n",
      "4        1.0\n",
      "        ... \n",
      "93596    1.0\n",
      "93597    1.0\n",
      "93598    1.0\n",
      "93599    1.0\n",
      "93600    1.0\n",
      "Name: host_has_profile_pic, Length: 93601, dtype: float64\n",
      "0        1.0\n",
      "1        1.0\n",
      "2        1.0\n",
      "3        1.0\n",
      "4        1.0\n",
      "        ... \n",
      "93596    1.0\n",
      "93597    1.0\n",
      "93598    1.0\n",
      "93599    1.0\n",
      "93600    1.0\n",
      "Name: host_has_profile_pic, Length: 93601, dtype: float64\n"
     ]
    },
    {
     "name": "stderr",
     "output_type": "stream",
     "text": [
      "/tmp/ipykernel_39031/1341696252.py:4: FutureWarning: Downcasting behavior in `replace` is deprecated and will be removed in a future version. To retain the old behavior, explicitly call `result.infer_objects(copy=False)`. To opt-in to the future behavior, set `pd.set_option('future.no_silent_downcasting', True)`\n",
      "  listings_gz[\"host_has_profile_pic\"] = listings_gz[\"host_has_profile_pic\"].replace({\"f\":0, \"t\":1, })\n",
      "/tmp/ipykernel_39031/1341696252.py:5: FutureWarning: Downcasting behavior in `replace` is deprecated and will be removed in a future version. To retain the old behavior, explicitly call `result.infer_objects(copy=False)`. To opt-in to the future behavior, set `pd.set_option('future.no_silent_downcasting', True)`\n",
      "  listings_gz[\"host_identity_verified\"] = listings_gz[\"host_identity_verified\"].replace({\"f\":0, \"t\":1, })\n"
     ]
    }
   ],
   "source": [
    "# Proceso las columnas que deberian que son booleanas y tienen \"f\" y \"t\" como valor:\n",
    "\n",
    "listings_gz[\"host_is_superhost\"] = listings_gz[\"host_is_superhost\"].replace({\"f\":0, \"t\":1, })\n",
    "listings_gz[\"host_has_profile_pic\"] = listings_gz[\"host_has_profile_pic\"].replace({\"f\":0, \"t\":1, })\n",
    "listings_gz[\"host_identity_verified\"] = listings_gz[\"host_identity_verified\"].replace({\"f\":0, \"t\":1, })\n",
    "\n",
    "# Tratamos los valores nulos:\n",
    "\n",
    "print(listings_gz[\"host_is_superhost\"])\n",
    "print(listings_gz[\"host_has_profile_pic\"])\n",
    "print(listings_gz[\"host_has_profile_pic\"])"
   ]
  },
  {
   "cell_type": "markdown",
   "metadata": {},
   "source": [
    "Ahora vamos con las variables numericas"
   ]
  },
  {
   "cell_type": "code",
   "execution_count": 62,
   "metadata": {},
   "outputs": [],
   "source": [
    "# Empezamos quitandole el simbolo del porcentaje y diviendiendo entre 100 a las variables host_response_rate y a host_\n",
    "# Para ello utilizamos una funcion:\n",
    "\n",
    "def conversion_porcentajes(name):\n",
    "    name = str(name).replace(\"%\",\"\")\n",
    "    name = float(name)/100\n",
    "    return name\n",
    "\n",
    "listings_gz[\"host_response_rate\"] = listings_gz[\"host_response_rate\"].apply(conversion_porcentajes)\n",
    "listings_gz[\"host_acceptance_rate\"] = listings_gz[\"host_acceptance_rate\"].apply(conversion_porcentajes)"
   ]
  },
  {
   "cell_type": "code",
   "execution_count": 75,
   "metadata": {},
   "outputs": [],
   "source": [
    "# Los nombres de las columnas correctas, EN ORDEN\n",
    "proc_host_column_names_new = ['id', 'url', 'name', 'host_since', 'location', 'host_about', 'response_time', 'response_rate','acceptance_rate', 'is_superhost', \n",
    "                            'thumbnail_url', 'picture_url', 'listings_count', 'total_listings_count', 'verifications', 'has_profile_pic','identity_verified', \n",
    "                            'calculated_host_listings_count','calculated_host_listings_count_entire_homes', 'calculated_host_listings_count_private_rooms',\n",
    "                            'calculated_host_listings_count_shared_rooms']\n",
    "\n",
    "# Creamos el dataframe, EN EL ORDEN ANTERIOR\n",
    "proc_hosts = listings_gz[[\"host_id\", \"host_url\", \"host_name\", \"host_since\", \"host_location\", \"host_about\", \"host_response_time\", \"host_response_rate\", \"host_acceptance_rate\", \n",
    "                        \"host_is_superhost\", \"host_thumbnail_url\", \"host_picture_url\", \"host_listings_count\", \"host_total_listings_count\", \"host_verifications\",\n",
    "                        \"host_has_profile_pic\", \"host_identity_verified\", \"calculated_host_listings_count\", \"calculated_host_listings_count_entire_homes\",\n",
    "                        \"calculated_host_listings_count_private_rooms\", \"calculated_host_listings_count_shared_rooms\"]]\n",
    "\n",
    "#Con esto renombro las columnas\n",
    "proc_hosts = proc_hosts.set_axis(proc_host_column_names_new, axis=1)\n",
    "\n",
    "# Esto es una prueba para ver si sale bien\n",
    "proc_hosts.to_csv('proc_host.csv', index=False)"
   ]
  },
  {
   "cell_type": "code",
   "execution_count": 69,
   "metadata": {},
   "outputs": [],
   "source": [
    "# Create dataframes from SQL tables\n",
    "# Calendar table\n",
    "proc_calendar = pd.DataFrame(columns=[\n",
    "    'listing_id', 'date', 'available', 'price', 'adjusted_price', 'minimum_nights', 'maximum_nights'\n",
    "])\n",
    "\n",
    "# Property type table\n",
    "proc_property_type = pd.DataFrame(columns=['id', 'type'])\n",
    "\n",
    "# Listings table\n",
    "proc_listings = pd.DataFrame(columns=[\n",
    "    'id', 'name', 'host_id', 'neighbourhood_group', 'neighbourhood', 'city', 'latitude', 'longitude',\n",
    "    'room_type', 'property_type', 'price', 'minimum_nights', 'maximum_nights', 'license'\n",
    "])\n",
    "\n",
    "# Listings description table\n",
    "proc_listings_description = pd.DataFrame(columns=[\n",
    "    'listing_id', 'description', 'picture_url', 'accommodates', 'bathrooms', 'bathrooms_text',\n",
    "    'bedrooms', 'beds', 'minimum_minimum_nights', 'maximum_minimum_nights', 'minimum_maximum_nights',\n",
    "    'maximum_maximum_nights', 'minimum_nights_avg_ntm', 'maximum_nights_avg_ntm'\n",
    "])\n",
    "\n",
    "# Listings amenities table\n",
    "proc_listings_amenities = pd.DataFrame(columns=['listing_id', 'amenity'])\n",
    "\n",
    "# Listings availability table\n",
    "proc_listings_availability = pd.DataFrame(columns=[\n",
    "    'listing_id', 'minimum_minimum_nights', 'maximum_minimum_nights', 'minimum_maximum_nights',\n",
    "    'maximum_maximum_nights', 'minimum_nights_avg_ntm', 'maximum_nights_avg_ntm', 'calendar_updated',\n",
    "    'has_availability', 'availability_30', 'availability_60', 'availability_90', 'availability_365',\n",
    "    'instant_bookable'\n",
    "])\n",
    "\n",
    "# Listings reviews table\n",
    "proc_listings_reviews = pd.DataFrame(columns=[\n",
    "    'listing_id', 'number_of_reviews', 'number_of_reviews_ltm', 'number_of_reviews_l30d',\n",
    "    'first_review', 'last_review', 'review_scores_rating', 'review_scores_accuracy',\n",
    "    'review_scores_cleanliness', 'review_scores_checkin', 'review_scores_communication',\n",
    "    'review_scores_location', 'review_scores_value', 'reviews_per_month'\n",
    "])\n",
    "\n",
    "# Neighborhood groups table\n",
    "proc_neighborhood_groups = pd.DataFrame(columns=['id', 'name', 'neighbourhood_group_cleansed'])\n",
    "\n",
    "# Neighborhoods table\n",
    "proc_neighborhoods = pd.DataFrame(columns=[\n",
    "    'id', 'name', 'neighborhood_cleansed', 'neighborhood_group', 'overview', 'city'\n",
    "])\n",
    "\n",
    "# Countries table\n",
    "proc_countries = pd.DataFrame(columns=['iso_3166_1', 'name'])\n",
    "\n",
    "# Cities table\n",
    "proc_cities = pd.DataFrame(columns=['id', 'name', 'country_code'])\n",
    "\n",
    "# Hosts table\n",
    "proc_hosts = pd.DataFrame(columns=[\n",
    "    'id', 'url', 'name', 'host_since', 'location', 'host_about', 'response_time', 'response_rate',\n",
    "    'acceptance_rate', 'is_superhost', 'thumbnail_url', 'picture_url', 'neighborhood',\n",
    "    'listings_count', 'total_listings_count', 'verifications', 'has_profile_pic',\n",
    "    'identity_verified', 'calculated_host_listings_count',\n",
    "    'calculated_host_listings_count_entire_homes', 'calculated_host_listings_count_private_rooms',\n",
    "    'calculated_host_listings_count_shared_rooms'\n",
    "])\n",
    "\n",
    "proc_hosts = listings_gz[[\"host_url\", \"host_name\", \"host_since\", \"host_location\", \"host_about\", \"host_response_time\", \"host_response_rate\", \"host_acceptance_rate\", \n",
    "                            \"host_is_superhost\", \"host_thumbnail_url\", \"host_picture_url\", \"host_listings_count\", \"host_total_listings_count\", \"host_verifications\",\n",
    "                            \"host_has_profile_pic\", \"host_identity_verified\", \"calculated_host_listings_count\", \"calculated_host_listings_count_entire_homes\",\n",
    "                            \"calculated_host_listings_count_private_rooms\", \"calculated_host_listings_count_shared_rooms\"]]\n",
    "\n",
    "proc_hosts.to_csv('proc_host.csv', index=False)\n",
    "\n",
    "\n",
    "# Users table\n",
    "proc_users = pd.DataFrame(columns=['id', 'name'])\n",
    "\n",
    "# Reviews table\n",
    "proc_reviews = pd.DataFrame(columns=['id', 'listing_id', 'date', 'reviewer_id', 'comments'])"
   ]
  },
  {
   "cell_type": "code",
   "execution_count": 65,
   "metadata": {},
   "outputs": [
    {
     "ename": "KeyError",
     "evalue": "'description'",
     "output_type": "error",
     "traceback": [
      "\u001b[0;31m---------------------------------------------------------------------------\u001b[0m",
      "\u001b[0;31mKeyError\u001b[0m                                  Traceback (most recent call last)",
      "File \u001b[0;32m~/uni/segundo/magd/magd_env/lib/python3.12/site-packages/pandas/core/indexes/base.py:3805\u001b[0m, in \u001b[0;36mIndex.get_loc\u001b[0;34m(self, key)\u001b[0m\n\u001b[1;32m   3804\u001b[0m \u001b[38;5;28;01mtry\u001b[39;00m:\n\u001b[0;32m-> 3805\u001b[0m     \u001b[38;5;28;01mreturn\u001b[39;00m \u001b[38;5;28;43mself\u001b[39;49m\u001b[38;5;241;43m.\u001b[39;49m\u001b[43m_engine\u001b[49m\u001b[38;5;241;43m.\u001b[39;49m\u001b[43mget_loc\u001b[49m\u001b[43m(\u001b[49m\u001b[43mcasted_key\u001b[49m\u001b[43m)\u001b[49m\n\u001b[1;32m   3806\u001b[0m \u001b[38;5;28;01mexcept\u001b[39;00m \u001b[38;5;167;01mKeyError\u001b[39;00m \u001b[38;5;28;01mas\u001b[39;00m err:\n",
      "File \u001b[0;32mindex.pyx:167\u001b[0m, in \u001b[0;36mpandas._libs.index.IndexEngine.get_loc\u001b[0;34m()\u001b[0m\n",
      "File \u001b[0;32mindex.pyx:196\u001b[0m, in \u001b[0;36mpandas._libs.index.IndexEngine.get_loc\u001b[0;34m()\u001b[0m\n",
      "File \u001b[0;32mpandas/_libs/hashtable_class_helper.pxi:7081\u001b[0m, in \u001b[0;36mpandas._libs.hashtable.PyObjectHashTable.get_item\u001b[0;34m()\u001b[0m\n",
      "File \u001b[0;32mpandas/_libs/hashtable_class_helper.pxi:7089\u001b[0m, in \u001b[0;36mpandas._libs.hashtable.PyObjectHashTable.get_item\u001b[0;34m()\u001b[0m\n",
      "\u001b[0;31mKeyError\u001b[0m: 'description'",
      "\nThe above exception was the direct cause of the following exception:\n",
      "\u001b[0;31mKeyError\u001b[0m                                  Traceback (most recent call last)",
      "Cell \u001b[0;32mIn[65], line 5\u001b[0m\n\u001b[1;32m      1\u001b[0m \u001b[38;5;66;03m# Create a dictionary to map information from listings to the new dataframes\u001b[39;00m\n\u001b[1;32m      2\u001b[0m listings_info \u001b[38;5;241m=\u001b[39m {\n\u001b[1;32m      3\u001b[0m     \u001b[38;5;124m'\u001b[39m\u001b[38;5;124mproc_listings_description\u001b[39m\u001b[38;5;124m'\u001b[39m: {\n\u001b[1;32m      4\u001b[0m         \u001b[38;5;124m'\u001b[39m\u001b[38;5;124mlistings_id\u001b[39m\u001b[38;5;124m'\u001b[39m: listings[\u001b[38;5;124m'\u001b[39m\u001b[38;5;124mid\u001b[39m\u001b[38;5;124m'\u001b[39m],\n\u001b[0;32m----> 5\u001b[0m         \u001b[38;5;124m'\u001b[39m\u001b[38;5;124mdescription\u001b[39m\u001b[38;5;124m'\u001b[39m: \u001b[43mlistings\u001b[49m\u001b[43m[\u001b[49m\u001b[38;5;124;43m'\u001b[39;49m\u001b[38;5;124;43mdescription\u001b[39;49m\u001b[38;5;124;43m'\u001b[39;49m\u001b[43m]\u001b[49m,\n\u001b[1;32m      6\u001b[0m         \u001b[38;5;124m'\u001b[39m\u001b[38;5;124mpicture_url\u001b[39m\u001b[38;5;124m'\u001b[39m: listings[\u001b[38;5;124m'\u001b[39m\u001b[38;5;124mpicture_url\u001b[39m\u001b[38;5;124m'\u001b[39m],\n\u001b[1;32m      7\u001b[0m         \u001b[38;5;124m'\u001b[39m\u001b[38;5;124maccommodates\u001b[39m\u001b[38;5;124m'\u001b[39m: listings[\u001b[38;5;124m'\u001b[39m\u001b[38;5;124maccommodates\u001b[39m\u001b[38;5;124m'\u001b[39m],\n\u001b[1;32m      8\u001b[0m         \u001b[38;5;124m'\u001b[39m\u001b[38;5;124mbathrooms\u001b[39m\u001b[38;5;124m'\u001b[39m: listings[\u001b[38;5;124m'\u001b[39m\u001b[38;5;124mbathrooms\u001b[39m\u001b[38;5;124m'\u001b[39m],\n\u001b[1;32m      9\u001b[0m         \u001b[38;5;124m'\u001b[39m\u001b[38;5;124mbathrooms_text\u001b[39m\u001b[38;5;124m'\u001b[39m: listings[\u001b[38;5;124m'\u001b[39m\u001b[38;5;124mbathrooms_text\u001b[39m\u001b[38;5;124m'\u001b[39m],\n\u001b[1;32m     10\u001b[0m         \u001b[38;5;124m'\u001b[39m\u001b[38;5;124mbedrooms\u001b[39m\u001b[38;5;124m'\u001b[39m: listings[\u001b[38;5;124m'\u001b[39m\u001b[38;5;124mbedrooms\u001b[39m\u001b[38;5;124m'\u001b[39m],\n\u001b[1;32m     11\u001b[0m         \u001b[38;5;124m'\u001b[39m\u001b[38;5;124mbeds\u001b[39m\u001b[38;5;124m'\u001b[39m: listings[\u001b[38;5;124m'\u001b[39m\u001b[38;5;124mbeds\u001b[39m\u001b[38;5;124m'\u001b[39m],\n\u001b[1;32m     12\u001b[0m         \u001b[38;5;124m'\u001b[39m\u001b[38;5;124mminimum_minimum_nights\u001b[39m\u001b[38;5;124m'\u001b[39m: listings[\u001b[38;5;124m'\u001b[39m\u001b[38;5;124mminimum_minimum_nights\u001b[39m\u001b[38;5;124m'\u001b[39m],\n\u001b[1;32m     13\u001b[0m         \u001b[38;5;124m'\u001b[39m\u001b[38;5;124mmaximum_minimum_nights\u001b[39m\u001b[38;5;124m'\u001b[39m: listings[\u001b[38;5;124m'\u001b[39m\u001b[38;5;124mmaximum_minimum_nights\u001b[39m\u001b[38;5;124m'\u001b[39m],\n\u001b[1;32m     14\u001b[0m         \u001b[38;5;124m'\u001b[39m\u001b[38;5;124mminimum_maximum_nights\u001b[39m\u001b[38;5;124m'\u001b[39m: listings[\u001b[38;5;124m'\u001b[39m\u001b[38;5;124mminimum_maximum_nights\u001b[39m\u001b[38;5;124m'\u001b[39m],\n\u001b[1;32m     15\u001b[0m         \u001b[38;5;124m'\u001b[39m\u001b[38;5;124mmaximum_maximum_nights\u001b[39m\u001b[38;5;124m'\u001b[39m: listings[\u001b[38;5;124m'\u001b[39m\u001b[38;5;124mmaximum_maximum_nights\u001b[39m\u001b[38;5;124m'\u001b[39m],\n\u001b[1;32m     16\u001b[0m         \u001b[38;5;124m'\u001b[39m\u001b[38;5;124mminimum_nights_avg_ntm\u001b[39m\u001b[38;5;124m'\u001b[39m: listings[\u001b[38;5;124m'\u001b[39m\u001b[38;5;124mminimum_nights_avg_ntm\u001b[39m\u001b[38;5;124m'\u001b[39m],\n\u001b[1;32m     17\u001b[0m         \u001b[38;5;124m'\u001b[39m\u001b[38;5;124mmaximum_nights_avg_ntm\u001b[39m\u001b[38;5;124m'\u001b[39m: listings[\u001b[38;5;124m'\u001b[39m\u001b[38;5;124mmaximum_nights_avg_ntm\u001b[39m\u001b[38;5;124m'\u001b[39m]\n\u001b[1;32m     18\u001b[0m     },\n\u001b[1;32m     19\u001b[0m     \u001b[38;5;124m'\u001b[39m\u001b[38;5;124mproc_listings\u001b[39m\u001b[38;5;124m'\u001b[39m: {\n\u001b[1;32m     20\u001b[0m         \u001b[38;5;124m'\u001b[39m\u001b[38;5;124mid\u001b[39m\u001b[38;5;124m'\u001b[39m: listings[\u001b[38;5;124m'\u001b[39m\u001b[38;5;124mid\u001b[39m\u001b[38;5;124m'\u001b[39m],\n\u001b[1;32m     21\u001b[0m         \u001b[38;5;124m'\u001b[39m\u001b[38;5;124mname\u001b[39m\u001b[38;5;124m'\u001b[39m: listings[\u001b[38;5;124m'\u001b[39m\u001b[38;5;124mname\u001b[39m\u001b[38;5;124m'\u001b[39m],\n\u001b[1;32m     22\u001b[0m         \u001b[38;5;124m'\u001b[39m\u001b[38;5;124mhost_id\u001b[39m\u001b[38;5;124m'\u001b[39m: listings[\u001b[38;5;124m'\u001b[39m\u001b[38;5;124mhost_id\u001b[39m\u001b[38;5;124m'\u001b[39m],\n\u001b[1;32m     23\u001b[0m         \u001b[38;5;124m'\u001b[39m\u001b[38;5;124mneighbourhood_group\u001b[39m\u001b[38;5;124m'\u001b[39m: listings[\u001b[38;5;124m'\u001b[39m\u001b[38;5;124mneighbourhood_group_cleansed\u001b[39m\u001b[38;5;124m'\u001b[39m],\n\u001b[1;32m     24\u001b[0m         \u001b[38;5;124m'\u001b[39m\u001b[38;5;124mneighbourhood\u001b[39m\u001b[38;5;124m'\u001b[39m: listings[\u001b[38;5;124m'\u001b[39m\u001b[38;5;124mneighbourhood_cleansed\u001b[39m\u001b[38;5;124m'\u001b[39m],\n\u001b[1;32m     25\u001b[0m         \u001b[38;5;124m'\u001b[39m\u001b[38;5;124mcity\u001b[39m\u001b[38;5;124m'\u001b[39m: listings[\u001b[38;5;124m'\u001b[39m\u001b[38;5;124mcity\u001b[39m\u001b[38;5;124m'\u001b[39m],\n\u001b[1;32m     26\u001b[0m         \u001b[38;5;124m'\u001b[39m\u001b[38;5;124mlatitude\u001b[39m\u001b[38;5;124m'\u001b[39m: listings[\u001b[38;5;124m'\u001b[39m\u001b[38;5;124mlatitude\u001b[39m\u001b[38;5;124m'\u001b[39m],\n\u001b[1;32m     27\u001b[0m         \u001b[38;5;124m'\u001b[39m\u001b[38;5;124mlongitude\u001b[39m\u001b[38;5;124m'\u001b[39m: listings[\u001b[38;5;124m'\u001b[39m\u001b[38;5;124mlongitude\u001b[39m\u001b[38;5;124m'\u001b[39m],\n\u001b[1;32m     28\u001b[0m         \u001b[38;5;124m'\u001b[39m\u001b[38;5;124mroom_type\u001b[39m\u001b[38;5;124m'\u001b[39m: listings[\u001b[38;5;124m'\u001b[39m\u001b[38;5;124mroom_type\u001b[39m\u001b[38;5;124m'\u001b[39m],\n\u001b[1;32m     29\u001b[0m         \u001b[38;5;124m'\u001b[39m\u001b[38;5;124mproperty_type\u001b[39m\u001b[38;5;124m'\u001b[39m: listings[\u001b[38;5;124m'\u001b[39m\u001b[38;5;124mproperty_type\u001b[39m\u001b[38;5;124m'\u001b[39m],\n\u001b[1;32m     30\u001b[0m         \u001b[38;5;124m'\u001b[39m\u001b[38;5;124mprice\u001b[39m\u001b[38;5;124m'\u001b[39m: listings[\u001b[38;5;124m'\u001b[39m\u001b[38;5;124mprice\u001b[39m\u001b[38;5;124m'\u001b[39m],\n\u001b[1;32m     31\u001b[0m         \u001b[38;5;124m'\u001b[39m\u001b[38;5;124mminimum_nights\u001b[39m\u001b[38;5;124m'\u001b[39m: listings[\u001b[38;5;124m'\u001b[39m\u001b[38;5;124mminimum_nights\u001b[39m\u001b[38;5;124m'\u001b[39m],\n\u001b[1;32m     32\u001b[0m         \u001b[38;5;124m'\u001b[39m\u001b[38;5;124mmaximum_nights\u001b[39m\u001b[38;5;124m'\u001b[39m: listings[\u001b[38;5;124m'\u001b[39m\u001b[38;5;124mmaximum_nights\u001b[39m\u001b[38;5;124m'\u001b[39m],\n\u001b[1;32m     33\u001b[0m         \u001b[38;5;124m'\u001b[39m\u001b[38;5;124mlicense\u001b[39m\u001b[38;5;124m'\u001b[39m: listings[\u001b[38;5;124m'\u001b[39m\u001b[38;5;124mlicense\u001b[39m\u001b[38;5;124m'\u001b[39m]\n\u001b[1;32m     34\u001b[0m     }, \n\u001b[1;32m     35\u001b[0m     \u001b[38;5;124m'\u001b[39m\u001b[38;5;124mproc_listings_amenities\u001b[39m\u001b[38;5;124m'\u001b[39m: {\n\u001b[1;32m     36\u001b[0m         \u001b[38;5;124m'\u001b[39m\u001b[38;5;124mlisting_id\u001b[39m\u001b[38;5;124m'\u001b[39m: listings[\u001b[38;5;124m'\u001b[39m\u001b[38;5;124mid\u001b[39m\u001b[38;5;124m'\u001b[39m],\n\u001b[1;32m     37\u001b[0m         \u001b[38;5;124m'\u001b[39m\u001b[38;5;124mamenity\u001b[39m\u001b[38;5;124m'\u001b[39m: listings[\u001b[38;5;124m'\u001b[39m\u001b[38;5;124mamenities\u001b[39m\u001b[38;5;124m'\u001b[39m]\n\u001b[1;32m     38\u001b[0m     }\n\u001b[1;32m     39\u001b[0m }\n\u001b[1;32m     40\u001b[0m \u001b[38;5;66;03m# Map the dictionary to the new dataframes\u001b[39;00m\n\u001b[1;32m     41\u001b[0m \u001b[38;5;28;01mfor\u001b[39;00m key, value \u001b[38;5;129;01min\u001b[39;00m listings_info\u001b[38;5;241m.\u001b[39mitems():\n",
      "File \u001b[0;32m~/uni/segundo/magd/magd_env/lib/python3.12/site-packages/pandas/core/frame.py:4102\u001b[0m, in \u001b[0;36mDataFrame.__getitem__\u001b[0;34m(self, key)\u001b[0m\n\u001b[1;32m   4100\u001b[0m \u001b[38;5;28;01mif\u001b[39;00m \u001b[38;5;28mself\u001b[39m\u001b[38;5;241m.\u001b[39mcolumns\u001b[38;5;241m.\u001b[39mnlevels \u001b[38;5;241m>\u001b[39m \u001b[38;5;241m1\u001b[39m:\n\u001b[1;32m   4101\u001b[0m     \u001b[38;5;28;01mreturn\u001b[39;00m \u001b[38;5;28mself\u001b[39m\u001b[38;5;241m.\u001b[39m_getitem_multilevel(key)\n\u001b[0;32m-> 4102\u001b[0m indexer \u001b[38;5;241m=\u001b[39m \u001b[38;5;28;43mself\u001b[39;49m\u001b[38;5;241;43m.\u001b[39;49m\u001b[43mcolumns\u001b[49m\u001b[38;5;241;43m.\u001b[39;49m\u001b[43mget_loc\u001b[49m\u001b[43m(\u001b[49m\u001b[43mkey\u001b[49m\u001b[43m)\u001b[49m\n\u001b[1;32m   4103\u001b[0m \u001b[38;5;28;01mif\u001b[39;00m is_integer(indexer):\n\u001b[1;32m   4104\u001b[0m     indexer \u001b[38;5;241m=\u001b[39m [indexer]\n",
      "File \u001b[0;32m~/uni/segundo/magd/magd_env/lib/python3.12/site-packages/pandas/core/indexes/base.py:3812\u001b[0m, in \u001b[0;36mIndex.get_loc\u001b[0;34m(self, key)\u001b[0m\n\u001b[1;32m   3807\u001b[0m     \u001b[38;5;28;01mif\u001b[39;00m \u001b[38;5;28misinstance\u001b[39m(casted_key, \u001b[38;5;28mslice\u001b[39m) \u001b[38;5;129;01mor\u001b[39;00m (\n\u001b[1;32m   3808\u001b[0m         \u001b[38;5;28misinstance\u001b[39m(casted_key, abc\u001b[38;5;241m.\u001b[39mIterable)\n\u001b[1;32m   3809\u001b[0m         \u001b[38;5;129;01mand\u001b[39;00m \u001b[38;5;28many\u001b[39m(\u001b[38;5;28misinstance\u001b[39m(x, \u001b[38;5;28mslice\u001b[39m) \u001b[38;5;28;01mfor\u001b[39;00m x \u001b[38;5;129;01min\u001b[39;00m casted_key)\n\u001b[1;32m   3810\u001b[0m     ):\n\u001b[1;32m   3811\u001b[0m         \u001b[38;5;28;01mraise\u001b[39;00m InvalidIndexError(key)\n\u001b[0;32m-> 3812\u001b[0m     \u001b[38;5;28;01mraise\u001b[39;00m \u001b[38;5;167;01mKeyError\u001b[39;00m(key) \u001b[38;5;28;01mfrom\u001b[39;00m \u001b[38;5;21;01merr\u001b[39;00m\n\u001b[1;32m   3813\u001b[0m \u001b[38;5;28;01mexcept\u001b[39;00m \u001b[38;5;167;01mTypeError\u001b[39;00m:\n\u001b[1;32m   3814\u001b[0m     \u001b[38;5;66;03m# If we have a listlike key, _check_indexing_error will raise\u001b[39;00m\n\u001b[1;32m   3815\u001b[0m     \u001b[38;5;66;03m#  InvalidIndexError. Otherwise we fall through and re-raise\u001b[39;00m\n\u001b[1;32m   3816\u001b[0m     \u001b[38;5;66;03m#  the TypeError.\u001b[39;00m\n\u001b[1;32m   3817\u001b[0m     \u001b[38;5;28mself\u001b[39m\u001b[38;5;241m.\u001b[39m_check_indexing_error(key)\n",
      "\u001b[0;31mKeyError\u001b[0m: 'description'"
     ]
    }
   ],
   "source": [
    "# Create a dictionary to map information from listings to the new dataframes\n",
    "listings_info = {\n",
    "    'proc_listings_description': {\n",
    "        'listings_id': listings['id'],\n",
    "        'description': listings['description'],\n",
    "        'picture_url': listings['picture_url'],\n",
    "        'accommodates': listings['accommodates'],\n",
    "        'bathrooms': listings['bathrooms'],\n",
    "        'bathrooms_text': listings['bathrooms_text'],\n",
    "        'bedrooms': listings['bedrooms'],\n",
    "        'beds': listings['beds'],\n",
    "        'minimum_minimum_nights': listings['minimum_minimum_nights'],\n",
    "        'maximum_minimum_nights': listings['maximum_minimum_nights'],\n",
    "        'minimum_maximum_nights': listings['minimum_maximum_nights'],\n",
    "        'maximum_maximum_nights': listings['maximum_maximum_nights'],\n",
    "        'minimum_nights_avg_ntm': listings['minimum_nights_avg_ntm'],\n",
    "        'maximum_nights_avg_ntm': listings['maximum_nights_avg_ntm']\n",
    "    },\n",
    "    'proc_listings': {\n",
    "        'id': listings['id'],\n",
    "        'name': listings['name'],\n",
    "        'host_id': listings['host_id'],\n",
    "        'neighbourhood_group': listings['neighbourhood_group_cleansed'],\n",
    "        'neighbourhood': listings['neighbourhood_cleansed'],\n",
    "        'city': listings['city'],\n",
    "        'latitude': listings['latitude'],\n",
    "        'longitude': listings['longitude'],\n",
    "        'room_type': listings['room_type'],\n",
    "        'property_type': listings['property_type'],\n",
    "        'price': listings['price'],\n",
    "        'minimum_nights': listings['minimum_nights'],\n",
    "        'maximum_nights': listings['maximum_nights'],\n",
    "        'license': listings['license']\n",
    "    }, \n",
    "    'proc_listings_amenities': {\n",
    "        'listing_id': listings['id'],\n",
    "        'amenity': listings['amenities']\n",
    "    }\n",
    "}\n",
    "# Map the dictionary to the new dataframes\n",
    "for key, value in listings_info.items():\n",
    "    for col, series in value.items():\n",
    "        if key == 'proc_listings_description':\n",
    "            proc_listings[col] = series\n",
    "        elif key == 'proc_listings':\n",
    "            proc_listings[col] = series\n",
    "        elif key == 'proc_listings_amenities':\n",
    "            proc_listings_amenities[col] = series\n",
    "\n",
    "# Create a dictionary to map information from calendar to the new dataframes\n",
    "calendar_info = {\n",
    "    'proc_calendar': {\n",
    "        'listing_id': calendar['listing_id'],\n",
    "        'date': calendar['date'],\n",
    "        'available': calendar['available'],\n",
    "        'price': calendar['price'],\n",
    "        'adjusted_price': calendar['adjusted_price'],\n",
    "        'minimum_nights': calendar['minimum_nights'],\n",
    "        'maximum_nights': calendar['maximum_nights']\n",
    "    }\n",
    "}\n",
    "# Map the dictionary to the new dataframes\n",
    "for key, value in calendar_info.items():\n",
    "    for col, series in value.items():\n",
    "        if key == 'proc_calendar':\n",
    "            proc_calendar[col] = series\n",
    "\n",
    "neighbourhoods_info = {\n",
    "    'proc_neighborhoods': {\n",
    "        'neighborhood_cleansed': neighbourhoods['neighbourhood'],\n",
    "        'neighborhood_group': neighbourhoods['neighbourhood_group'],\n",
    "        'city': neighbourhoods['city'],\n",
    "    }\n",
    "}\n",
    "\n",
    "# Map the dictionary to the new dataframes\n",
    "for key, value in neighbourhoods_info.items():\n",
    "    for col, series in value.items():\n",
    "        if key == 'proc_neighborhoods':\n",
    "            proc_neighborhoods[col] = series\n",
    "    "
   ]
  },
  {
   "cell_type": "code",
   "execution_count": 31,
   "metadata": {},
   "outputs": [],
   "source": [
    "proc_cities['id'] = range(1, len(cities) + 1)\n",
    "proc_cities['name'] = cities\n",
    "proc_cities['country_code'] = 'ES'"
   ]
  },
  {
   "cell_type": "code",
   "execution_count": 32,
   "metadata": {},
   "outputs": [],
   "source": [
    "proc_countries['iso_3166_1'] = 'ES'\n",
    "proc_countries['name'] = 'Spain'"
   ]
  },
  {
   "cell_type": "code",
   "execution_count": 33,
   "metadata": {},
   "outputs": [],
   "source": [
    "proc_neighborhood_groups['neighbourhood_group_cleansed'] = neighbourhoods['neighbourhood_group'].unique()\n",
    "proc_neighborhood_groups['id'] = range(1, len(proc_neighborhood_groups) + 1)"
   ]
  },
  {
   "cell_type": "code",
   "execution_count": 34,
   "metadata": {},
   "outputs": [],
   "source": [
    "proc_neighborhoods['id'] = range(1, len(neighbourhoods) + 1)\n",
    "mapping = dict(proc_neighborhood_groups[['neighbourhood_group_cleansed', 'id']].values)\n",
    "proc_neighborhoods['neighborhood_group'] = proc_neighborhoods['neighborhood_group'].map(mapping)"
   ]
  },
  {
   "cell_type": "code",
   "execution_count": 35,
   "metadata": {},
   "outputs": [],
   "source": [
    "boolean_map = {'t': True, 'f': False}\n",
    "proc_calendar['available'] = proc_calendar['available'].map(boolean_map)\n",
    "proc_calendar['price'] = proc_calendar['price'].str.replace('$', '').str.replace(',', '').astype(float)\n",
    "proc_calendar['adjusted_price'] = proc_calendar['adjusted_price'].str.replace('$', '').str.replace(',', '').astype(float)\n",
    "proc_calendar['minimum_nights'] = proc_calendar['minimum_nights'].fillna(0).astype(int)\n",
    "proc_calendar['maximum_nights'] = proc_calendar['maximum_nights'].fillna(0).astype(int)"
   ]
  }
 ],
 "metadata": {
  "kernelspec": {
   "display_name": "magd_env",
   "language": "python",
   "name": "python3"
  },
  "language_info": {
   "codemirror_mode": {
    "name": "ipython",
    "version": 3
   },
   "file_extension": ".py",
   "mimetype": "text/x-python",
   "name": "python",
   "nbconvert_exporter": "python",
   "pygments_lexer": "ipython3",
   "version": "3.12.3"
  }
 },
 "nbformat": 4,
 "nbformat_minor": 2
}
