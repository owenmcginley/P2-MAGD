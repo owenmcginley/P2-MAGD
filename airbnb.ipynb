{
 "cells": [
  {
   "cell_type": "code",
   "execution_count": 26,
   "metadata": {},
   "outputs": [],
   "source": [
    "import pandas as pd\n",
    "import numpy as np\n",
    "import datetime as dt\n"
   ]
  },
  {
   "cell_type": "markdown",
   "metadata": {},
   "source": [
    "Cargamos las bases de datos"
   ]
  },
  {
   "cell_type": "code",
   "execution_count": 39,
   "metadata": {},
   "outputs": [
    {
     "ename": "KeyboardInterrupt",
     "evalue": "",
     "output_type": "error",
     "traceback": [
      "\u001b[0;31m---------------------------------------------------------------------------\u001b[0m",
      "\u001b[0;31mKeyboardInterrupt\u001b[0m                         Traceback (most recent call last)",
      "Cell \u001b[0;32mIn[39], line 2\u001b[0m\n\u001b[1;32m      1\u001b[0m dir_data \u001b[38;5;241m=\u001b[39m \u001b[38;5;124m\"\u001b[39m\u001b[38;5;124m./airbnb_final_csv/\u001b[39m\u001b[38;5;124m\"\u001b[39m\n\u001b[0;32m----> 2\u001b[0m calendar \u001b[38;5;241m=\u001b[39m \u001b[43mpd\u001b[49m\u001b[38;5;241;43m.\u001b[39;49m\u001b[43mread_csv\u001b[49m\u001b[43m(\u001b[49m\u001b[38;5;124;43mf\u001b[39;49m\u001b[38;5;124;43m\"\u001b[39;49m\u001b[38;5;132;43;01m{\u001b[39;49;00m\u001b[43mdir_data\u001b[49m\u001b[38;5;132;43;01m}\u001b[39;49;00m\u001b[38;5;124;43mcalendar_fin.csv\u001b[39;49m\u001b[38;5;124;43m\"\u001b[39;49m\u001b[43m)\u001b[49m\n\u001b[1;32m      3\u001b[0m listings \u001b[38;5;241m=\u001b[39m pd\u001b[38;5;241m.\u001b[39mread_csv(\u001b[38;5;124mf\u001b[39m\u001b[38;5;124m\"\u001b[39m\u001b[38;5;132;01m{\u001b[39;00mdir_data\u001b[38;5;132;01m}\u001b[39;00m\u001b[38;5;124mlistings_fin.csv\u001b[39m\u001b[38;5;124m\"\u001b[39m)\n\u001b[1;32m      4\u001b[0m neighbourhoods \u001b[38;5;241m=\u001b[39m pd\u001b[38;5;241m.\u001b[39mread_csv(\u001b[38;5;124mf\u001b[39m\u001b[38;5;124m\"\u001b[39m\u001b[38;5;132;01m{\u001b[39;00mdir_data\u001b[38;5;132;01m}\u001b[39;00m\u001b[38;5;124mneighbourhoods_fin.csv\u001b[39m\u001b[38;5;124m\"\u001b[39m)\n",
      "File \u001b[0;32m~/opt/anaconda3/envs/Summer_Project/lib/python3.12/site-packages/pandas/io/parsers/readers.py:1026\u001b[0m, in \u001b[0;36mread_csv\u001b[0;34m(filepath_or_buffer, sep, delimiter, header, names, index_col, usecols, dtype, engine, converters, true_values, false_values, skipinitialspace, skiprows, skipfooter, nrows, na_values, keep_default_na, na_filter, verbose, skip_blank_lines, parse_dates, infer_datetime_format, keep_date_col, date_parser, date_format, dayfirst, cache_dates, iterator, chunksize, compression, thousands, decimal, lineterminator, quotechar, quoting, doublequote, escapechar, comment, encoding, encoding_errors, dialect, on_bad_lines, delim_whitespace, low_memory, memory_map, float_precision, storage_options, dtype_backend)\u001b[0m\n\u001b[1;32m   1013\u001b[0m kwds_defaults \u001b[38;5;241m=\u001b[39m _refine_defaults_read(\n\u001b[1;32m   1014\u001b[0m     dialect,\n\u001b[1;32m   1015\u001b[0m     delimiter,\n\u001b[0;32m   (...)\u001b[0m\n\u001b[1;32m   1022\u001b[0m     dtype_backend\u001b[38;5;241m=\u001b[39mdtype_backend,\n\u001b[1;32m   1023\u001b[0m )\n\u001b[1;32m   1024\u001b[0m kwds\u001b[38;5;241m.\u001b[39mupdate(kwds_defaults)\n\u001b[0;32m-> 1026\u001b[0m \u001b[38;5;28;01mreturn\u001b[39;00m \u001b[43m_read\u001b[49m\u001b[43m(\u001b[49m\u001b[43mfilepath_or_buffer\u001b[49m\u001b[43m,\u001b[49m\u001b[43m \u001b[49m\u001b[43mkwds\u001b[49m\u001b[43m)\u001b[49m\n",
      "File \u001b[0;32m~/opt/anaconda3/envs/Summer_Project/lib/python3.12/site-packages/pandas/io/parsers/readers.py:626\u001b[0m, in \u001b[0;36m_read\u001b[0;34m(filepath_or_buffer, kwds)\u001b[0m\n\u001b[1;32m    623\u001b[0m     \u001b[38;5;28;01mreturn\u001b[39;00m parser\n\u001b[1;32m    625\u001b[0m \u001b[38;5;28;01mwith\u001b[39;00m parser:\n\u001b[0;32m--> 626\u001b[0m     \u001b[38;5;28;01mreturn\u001b[39;00m \u001b[43mparser\u001b[49m\u001b[38;5;241;43m.\u001b[39;49m\u001b[43mread\u001b[49m\u001b[43m(\u001b[49m\u001b[43mnrows\u001b[49m\u001b[43m)\u001b[49m\n",
      "File \u001b[0;32m~/opt/anaconda3/envs/Summer_Project/lib/python3.12/site-packages/pandas/io/parsers/readers.py:1923\u001b[0m, in \u001b[0;36mTextFileReader.read\u001b[0;34m(self, nrows)\u001b[0m\n\u001b[1;32m   1916\u001b[0m nrows \u001b[38;5;241m=\u001b[39m validate_integer(\u001b[38;5;124m\"\u001b[39m\u001b[38;5;124mnrows\u001b[39m\u001b[38;5;124m\"\u001b[39m, nrows)\n\u001b[1;32m   1917\u001b[0m \u001b[38;5;28;01mtry\u001b[39;00m:\n\u001b[1;32m   1918\u001b[0m     \u001b[38;5;66;03m# error: \"ParserBase\" has no attribute \"read\"\u001b[39;00m\n\u001b[1;32m   1919\u001b[0m     (\n\u001b[1;32m   1920\u001b[0m         index,\n\u001b[1;32m   1921\u001b[0m         columns,\n\u001b[1;32m   1922\u001b[0m         col_dict,\n\u001b[0;32m-> 1923\u001b[0m     ) \u001b[38;5;241m=\u001b[39m \u001b[38;5;28;43mself\u001b[39;49m\u001b[38;5;241;43m.\u001b[39;49m\u001b[43m_engine\u001b[49m\u001b[38;5;241;43m.\u001b[39;49m\u001b[43mread\u001b[49m\u001b[43m(\u001b[49m\u001b[43m  \u001b[49m\u001b[38;5;66;43;03m# type: ignore[attr-defined]\u001b[39;49;00m\n\u001b[1;32m   1924\u001b[0m \u001b[43m        \u001b[49m\u001b[43mnrows\u001b[49m\n\u001b[1;32m   1925\u001b[0m \u001b[43m    \u001b[49m\u001b[43m)\u001b[49m\n\u001b[1;32m   1926\u001b[0m \u001b[38;5;28;01mexcept\u001b[39;00m \u001b[38;5;167;01mException\u001b[39;00m:\n\u001b[1;32m   1927\u001b[0m     \u001b[38;5;28mself\u001b[39m\u001b[38;5;241m.\u001b[39mclose()\n",
      "File \u001b[0;32m~/opt/anaconda3/envs/Summer_Project/lib/python3.12/site-packages/pandas/io/parsers/c_parser_wrapper.py:234\u001b[0m, in \u001b[0;36mCParserWrapper.read\u001b[0;34m(self, nrows)\u001b[0m\n\u001b[1;32m    232\u001b[0m \u001b[38;5;28;01mtry\u001b[39;00m:\n\u001b[1;32m    233\u001b[0m     \u001b[38;5;28;01mif\u001b[39;00m \u001b[38;5;28mself\u001b[39m\u001b[38;5;241m.\u001b[39mlow_memory:\n\u001b[0;32m--> 234\u001b[0m         chunks \u001b[38;5;241m=\u001b[39m \u001b[38;5;28;43mself\u001b[39;49m\u001b[38;5;241;43m.\u001b[39;49m\u001b[43m_reader\u001b[49m\u001b[38;5;241;43m.\u001b[39;49m\u001b[43mread_low_memory\u001b[49m\u001b[43m(\u001b[49m\u001b[43mnrows\u001b[49m\u001b[43m)\u001b[49m\n\u001b[1;32m    235\u001b[0m         \u001b[38;5;66;03m# destructive to chunks\u001b[39;00m\n\u001b[1;32m    236\u001b[0m         data \u001b[38;5;241m=\u001b[39m _concatenate_chunks(chunks)\n",
      "File \u001b[0;32mparsers.pyx:838\u001b[0m, in \u001b[0;36mpandas._libs.parsers.TextReader.read_low_memory\u001b[0;34m()\u001b[0m\n",
      "File \u001b[0;32mparsers.pyx:921\u001b[0m, in \u001b[0;36mpandas._libs.parsers.TextReader._read_rows\u001b[0;34m()\u001b[0m\n",
      "File \u001b[0;32mparsers.pyx:1083\u001b[0m, in \u001b[0;36mpandas._libs.parsers.TextReader._convert_column_data\u001b[0;34m()\u001b[0m\n",
      "File \u001b[0;32mparsers.pyx:1456\u001b[0m, in \u001b[0;36mpandas._libs.parsers._maybe_upcast\u001b[0;34m()\u001b[0m\n",
      "File \u001b[0;32m~/opt/anaconda3/envs/Summer_Project/lib/python3.12/site-packages/numpy/core/multiarray.py:1131\u001b[0m, in \u001b[0;36mputmask\u001b[0;34m(a, mask, values)\u001b[0m\n\u001b[1;32m   1082\u001b[0m \u001b[38;5;250m    \u001b[39m\u001b[38;5;124;03m\"\"\"\u001b[39;00m\n\u001b[1;32m   1083\u001b[0m \u001b[38;5;124;03m    copyto(dst, src, casting='same_kind', where=True)\u001b[39;00m\n\u001b[1;32m   1084\u001b[0m \n\u001b[0;32m   (...)\u001b[0m\n\u001b[1;32m   1126\u001b[0m \n\u001b[1;32m   1127\u001b[0m \u001b[38;5;124;03m    \"\"\"\u001b[39;00m\n\u001b[1;32m   1128\u001b[0m     \u001b[38;5;28;01mreturn\u001b[39;00m (dst, src, where)\n\u001b[0;32m-> 1131\u001b[0m \u001b[38;5;129m@array_function_from_c_func_and_dispatcher\u001b[39m(_multiarray_umath\u001b[38;5;241m.\u001b[39mputmask)\n\u001b[1;32m   1132\u001b[0m \u001b[38;5;28;01mdef\u001b[39;00m \u001b[38;5;21mputmask\u001b[39m(a, \u001b[38;5;241m/\u001b[39m, mask, values):\n\u001b[1;32m   1133\u001b[0m \u001b[38;5;250m    \u001b[39m\u001b[38;5;124;03m\"\"\"\u001b[39;00m\n\u001b[1;32m   1134\u001b[0m \u001b[38;5;124;03m    putmask(a, mask, values)\u001b[39;00m\n\u001b[1;32m   1135\u001b[0m \n\u001b[0;32m   (...)\u001b[0m\n\u001b[1;32m   1171\u001b[0m \n\u001b[1;32m   1172\u001b[0m \u001b[38;5;124;03m    \"\"\"\u001b[39;00m\n\u001b[1;32m   1173\u001b[0m     \u001b[38;5;28;01mreturn\u001b[39;00m (a, mask, values)\n",
      "\u001b[0;31mKeyboardInterrupt\u001b[0m: "
     ]
    }
   ],
   "source": [
    "dir_data = \"./airbnb_final_csv/\"\n",
    "calendar = pd.read_csv(f\"{dir_data}calendar_fin.csv\")\n",
    "listings = pd.read_csv(f\"{dir_data}listings_fin.csv\")\n",
    "neighbourhoods = pd.read_csv(f\"{dir_data}neighbourhoods_fin.csv\")\n",
    "reviews = pd.read_csv(f\"{dir_data}reviews_fin.csv\")\n",
    "reviews_gz = pd.read_csv(f\"{dir_data}reviews_gz_fin.csv\")\n",
    "listings_gz = pd.read_csv(f\"{dir_data}listings_gz_fin.csv\")"
   ]
  },
  {
   "cell_type": "markdown",
   "metadata": {},
   "source": [
    "Procesamos los datos para poder cargarlos a la base de datos. Empezamos con dos datos de listings_gz"
   ]
  },
  {
   "cell_type": "code",
   "execution_count": 63,
   "metadata": {},
   "outputs": [
    {
     "name": "stdout",
     "output_type": "stream",
     "text": [
      "0        0.0\n",
      "1        0.0\n",
      "2        0.0\n",
      "3        NaN\n",
      "4        0.0\n",
      "        ... \n",
      "93596    0.0\n",
      "93597    0.0\n",
      "93598    0.0\n",
      "93599    0.0\n",
      "93600    0.0\n",
      "Name: host_is_superhost, Length: 93601, dtype: float64\n",
      "0        1.0\n",
      "1        1.0\n",
      "2        1.0\n",
      "3        1.0\n",
      "4        1.0\n",
      "        ... \n",
      "93596    1.0\n",
      "93597    1.0\n",
      "93598    1.0\n",
      "93599    1.0\n",
      "93600    1.0\n",
      "Name: host_has_profile_pic, Length: 93601, dtype: float64\n",
      "0        1.0\n",
      "1        1.0\n",
      "2        1.0\n",
      "3        1.0\n",
      "4        1.0\n",
      "        ... \n",
      "93596    1.0\n",
      "93597    1.0\n",
      "93598    1.0\n",
      "93599    1.0\n",
      "93600    1.0\n",
      "Name: host_has_profile_pic, Length: 93601, dtype: float64\n"
     ]
    }
   ],
   "source": [
    "# Proceso las columnas que deberian que son booleanas y tienen \"f\" y \"t\" como valor:\n",
    "\n",
    "listings_gz[\"host_is_superhost\"] = listings_gz[\"host_is_superhost\"].replace({\"f\":0, \"t\":1, })\n",
    "listings_gz[\"host_has_profile_pic\"] = listings_gz[\"host_has_profile_pic\"].replace({\"f\":0, \"t\":1, })\n",
    "listings_gz[\"host_identity_verified\"] = listings_gz[\"host_identity_verified\"].replace({\"f\":0, \"t\":1, })\n",
    "\n",
    "# Tratamos los valores nulos:\n",
    "\n",
    "print(listings_gz[\"host_is_superhost\"])\n",
    "print(listings_gz[\"host_has_profile_pic\"])\n",
    "print(listings_gz[\"host_has_profile_pic\"])"
   ]
  },
  {
   "cell_type": "markdown",
   "metadata": {},
   "source": [
    "Ahora vamos con las variables numericas"
   ]
  },
  {
   "cell_type": "code",
   "execution_count": 64,
   "metadata": {},
   "outputs": [],
   "source": [
    "# Empezamos quitandole el simbolo del porcentaje y diviendiendo entre 100 a las variables host_response_rate y a host_\n",
    "# Para ello utilizamos una funcion:\n",
    "\n",
    "def conversion_porcentajes(name):\n",
    "    name = str(name).replace(\"%\",\"\")\n",
    "    name = float(name)/100\n",
    "    return name\n",
    "\n",
    "listings_gz[\"host_response_rate\"] = listings_gz[\"host_response_rate\"].apply(conversion_porcentajes)\n",
    "listings_gz[\"host_acceptance_rate\"] = listings_gz[\"host_acceptance_rate\"].apply(conversion_porcentajes)"
   ]
  },
  {
   "cell_type": "code",
   "execution_count": 65,
   "metadata": {},
   "outputs": [],
   "source": [
    "# Los nombres de las columnas correctas, EN ORDEN\n",
    "proc_host_column_names_new = ['id', 'url', 'name', 'host_since', 'location', 'host_about', 'response_time', 'response_rate','acceptance_rate', 'is_superhost', \n",
    "                            'thumbnail_url', 'picture_url', 'listings_count', 'total_listings_count', 'verifications', 'has_profile_pic','identity_verified', \n",
    "                            'calculated_host_listings_count','calculated_host_listings_count_entire_homes', 'calculated_host_listings_count_private_rooms',\n",
    "                            'calculated_host_listings_count_shared_rooms']\n",
    "\n",
    "# Creamos el dataframe, EN EL ORDEN ANTERIOR\n",
    "proc_hosts = listings_gz[[\"host_id\", \"host_url\", \"host_name\", \"host_since\", \"host_location\", \"host_about\", \"host_response_time\", \"host_response_rate\", \"host_acceptance_rate\", \n",
    "                        \"host_is_superhost\", \"host_thumbnail_url\", \"host_picture_url\", \"host_listings_count\", \"host_total_listings_count\", \"host_verifications\",\n",
    "                        \"host_has_profile_pic\", \"host_identity_verified\", \"calculated_host_listings_count\", \"calculated_host_listings_count_entire_homes\",\n",
    "                        \"calculated_host_listings_count_private_rooms\", \"calculated_host_listings_count_shared_rooms\"]]\n",
    "\n",
    "#Con esto renombro las columnas\n",
    "proc_hosts = proc_hosts.set_axis(proc_host_column_names_new, axis=1)\n",
    "\n",
    "# Esto es una prueba para ver si sale bien\n",
    "proc_hosts.to_csv('proc_host.csv', index=False)"
   ]
  },
  {
   "cell_type": "code",
   "execution_count": 173,
   "metadata": {},
   "outputs": [],
   "source": [
    "# Create dataframes from SQL tables\n",
    "# Calendar table\n",
    "proc_calendar = pd.DataFrame(columns=[\n",
    "    'listing_id', 'date', 'available', 'price', 'adjusted_price', 'minimum_nights', 'maximum_nights'\n",
    "])\n",
    "\n",
    "# Property type table\n",
    "proc_property_type = pd.DataFrame(columns=['id', 'type'])\n",
    "\n",
    "# Listings table\n",
    "proc_listings = pd.DataFrame(columns=[\n",
    "    'id', 'name', 'host_id', 'neighbourhood_id', 'city_id', 'latitude', 'longitude',\n",
    "    'room_type', 'property_type', 'price', 'minimum_nights', 'maximum_nights', 'license'\n",
    "])\n",
    "\n",
    "# Listings description table\n",
    "proc_listings_description = pd.DataFrame(columns=[\n",
    "    'listing_id', 'description', 'picture_url', 'accommodates', 'bathrooms', 'bathrooms_text',\n",
    "    'bedrooms', 'beds', 'minimum_minimum_nights', 'maximum_minimum_nights', 'minimum_maximum_nights',\n",
    "    'maximum_maximum_nights', 'minimum_nights_avg_ntm', 'maximum_nights_avg_ntm'\n",
    "])\n",
    "\n",
    "# Listings amenities table\n",
    "proc_listings_amenities = pd.DataFrame(columns=['listing_id', 'amenity'])\n",
    "\n",
    "# Listings availability table\n",
    "proc_listings_availability = pd.DataFrame(columns=[\n",
    "    'listing_id', 'minimum_minimum_nights', 'maximum_minimum_nights', 'minimum_maximum_nights',\n",
    "    'maximum_maximum_nights', 'minimum_nights_avg_ntm', 'maximum_nights_avg_ntm', 'calendar_updated',\n",
    "    'has_availability', 'availability_30', 'availability_60', 'availability_90', 'availability_365',\n",
    "    'instant_bookable'\n",
    "])\n",
    "\n",
    "# Listings reviews table\n",
    "proc_listings_reviews = pd.DataFrame(columns=[\n",
    "    'listing_id', 'number_of_reviews', 'number_of_reviews_ltm', 'number_of_reviews_l30d',\n",
    "    'first_review', 'last_review', 'review_scores_rating', 'review_scores_accuracy',\n",
    "    'review_scores_cleanliness', 'review_scores_checkin', 'review_scores_communication',\n",
    "    'review_scores_location', 'review_scores_value', 'reviews_per_month'\n",
    "])\n",
    "\n",
    "# Neighborhood groups table\n",
    "proc_neighborhood_groups = pd.DataFrame(columns=['id', 'name'])\n",
    "\n",
    "# Neighborhoods table\n",
    "proc_neighborhoods = pd.DataFrame(columns=[\n",
    "    'id', 'name', 'neighborhood_group_id', 'city_id'\n",
    "])\n",
    "\n",
    "# Countries table\n",
    "proc_countries = pd.DataFrame(columns=['iso_3166_1', 'name'])\n",
    "\n",
    "# Cities table\n",
    "proc_cities = pd.DataFrame(columns=['id', 'name', 'country_code'])\n",
    "\n",
    "# Hosts table\n",
    "proc_hosts = pd.DataFrame(columns=[\n",
    "    'id', 'url', 'name', 'host_since', 'location', 'host_about', 'response_time', 'response_rate',\n",
    "    'acceptance_rate', 'is_superhost', 'thumbnail_url', 'picture_url', 'neighborhood',\n",
    "    'listings_count', 'total_listings_count', 'verifications', 'has_profile_pic',\n",
    "    'identity_verified', 'calculated_host_listings_count',\n",
    "    'calculated_host_listings_count_entire_homes', 'calculated_host_listings_count_private_rooms',\n",
    "    'calculated_host_listings_count_shared_rooms'\n",
    "])\n",
    "\n",
    "proc_hosts = listings_gz[[\"host_url\", \"host_name\", \"host_since\", \"host_location\", \"host_about\", \"host_response_time\", \"host_response_rate\", \"host_acceptance_rate\", \n",
    "                            \"host_is_superhost\", \"host_thumbnail_url\", \"host_picture_url\", \"host_listings_count\", \"host_total_listings_count\", \"host_verifications\",\n",
    "                            \"host_has_profile_pic\", \"host_identity_verified\", \"calculated_host_listings_count\", \"calculated_host_listings_count_entire_homes\",\n",
    "                            \"calculated_host_listings_count_private_rooms\", \"calculated_host_listings_count_shared_rooms\"]]\n",
    "\n",
    "proc_hosts.to_csv('proc_host.csv', index=False)\n",
    "\n",
    "\n",
    "# Users table\n",
    "proc_users = pd.DataFrame(columns=['id', 'name'])\n",
    "\n",
    "# Reviews table\n",
    "proc_reviews = pd.DataFrame(columns=['id', 'listing_id', 'date', 'reviewer_id', 'comments'])"
   ]
  },
  {
   "cell_type": "code",
   "execution_count": 174,
   "metadata": {},
   "outputs": [],
   "source": [
    "# Create a dictionary to map information from listings to the new dataframes\n",
    "listings_info = {\n",
    "    'proc_listings_description': {\n",
    "        'listings_id': listings_gz['id'],\n",
    "        'description': listings_gz['description'],\n",
    "        'picture_url': listings_gz['picture_url'],\n",
    "        'accommodates': listings_gz['accommodates'],\n",
    "        'bathrooms': listings_gz['bathrooms'],\n",
    "        'bathrooms_text': listings_gz['bathrooms_text'],\n",
    "        'bedrooms': listings_gz['bedrooms'],\n",
    "        'beds': listings_gz['beds'],\n",
    "        'minimum_minimum_nights': listings_gz['minimum_minimum_nights'],\n",
    "        'maximum_minimum_nights': listings_gz['maximum_minimum_nights'],\n",
    "        'minimum_maximum_nights': listings_gz['minimum_maximum_nights'],\n",
    "        'maximum_maximum_nights': listings_gz['maximum_maximum_nights'],\n",
    "        'minimum_nights_avg_ntm': listings_gz['minimum_nights_avg_ntm'],\n",
    "        'maximum_nights_avg_ntm': listings_gz['maximum_nights_avg_ntm']\n",
    "    },\n",
    "    'proc_listings': {\n",
    "        'id': listings_gz['id'],\n",
    "        'name': listings_gz['name'],\n",
    "        'host_id': listings_gz['host_id'],\n",
    "        'neighbourhood_id': listings_gz['neighbourhood_cleansed'],\n",
    "        'city_id': listings_gz['city'],\n",
    "        'latitude': listings_gz['latitude'],\n",
    "        'longitude': listings_gz['longitude'],\n",
    "        'room_type': listings_gz['room_type'],\n",
    "        'property_type': listings_gz['property_type'],\n",
    "        'price': listings_gz['price'],\n",
    "        'minimum_nights': listings_gz['minimum_nights'],\n",
    "        'maximum_nights': listings_gz['maximum_nights'],\n",
    "        'license': listings_gz['license']\n",
    "    }, \n",
    "    'proc_listings_amenities': {\n",
    "        'listing_id': listings_gz['id'],\n",
    "        'amenity': listings_gz['amenities']\n",
    "    }\n",
    "}\n",
    "# Map the dictionary to the new dataframes\n",
    "for key, value in listings_info.items():\n",
    "    for col, series in value.items():\n",
    "        if key == 'proc_listings_description':\n",
    "            proc_listings[col] = series\n",
    "        elif key == 'proc_listings':\n",
    "            proc_listings[col] = series\n",
    "        elif key == 'proc_listings_amenities':\n",
    "            proc_listings_amenities[col] = series\n",
    "\n",
    "# Create a dictionary to map information from calendar to the new dataframes\n",
    "calendar_info = {\n",
    "    'proc_calendar': {\n",
    "        'listing_id': calendar['listing_id'],\n",
    "        'date': calendar['date'],\n",
    "        'available': calendar['available'],\n",
    "        'price': calendar['price'],\n",
    "        'adjusted_price': calendar['adjusted_price'],\n",
    "        'minimum_nights': calendar['minimum_nights'],\n",
    "        'maximum_nights': calendar['maximum_nights']\n",
    "    }\n",
    "}\n",
    "# Map the dictionary to the new dataframes\n",
    "for key, value in calendar_info.items():\n",
    "    for col, series in value.items():\n",
    "        if key == 'proc_calendar':\n",
    "            proc_calendar[col] = series\n",
    "\n",
    "neighbourhoods_info = {\n",
    "    'proc_neighborhoods': {\n",
    "        'name': neighbourhoods['neighbourhood'],\n",
    "        'neighborhood_group_id': neighbourhoods['neighbourhood_group'],\n",
    "        'city_id': neighbourhoods['city'],\n",
    "    }\n",
    "}\n",
    "\n",
    "# Map the dictionary to the new dataframes\n",
    "for key, value in neighbourhoods_info.items():\n",
    "    for col, series in value.items():\n",
    "        if key == 'proc_neighborhoods':\n",
    "            proc_neighborhoods[col] = series\n",
    "    "
   ]
  },
  {
   "cell_type": "code",
   "execution_count": 175,
   "metadata": {},
   "outputs": [],
   "source": [
    "proc_listings_amenities.to_csv('proc_listings_amenities.csv', index=False)\n",
    "proc_listings_description.to_csv('proc_listings_description.csv', index=False)\n"
   ]
  },
  {
   "cell_type": "code",
   "execution_count": 176,
   "metadata": {},
   "outputs": [],
   "source": [
    "cities = ['barcelona', 'madrid', 'malaga', 'mallorca', 'menorca', 'sevilla', 'valencia']\n",
    "proc_cities['id'] = range(1, len(cities) + 1)\n",
    "proc_cities['name'] = cities\n",
    "proc_cities['country_code'] = 'ES'\n",
    "\n",
    "proc_cities.to_csv('proc_cities.csv', index=False)"
   ]
  },
  {
   "cell_type": "code",
   "execution_count": 177,
   "metadata": {},
   "outputs": [],
   "source": [
    "proc_countries['iso_3166_1'] = 'ES'\n",
    "proc_countries['name'] = 'Spain'\n",
    "\n",
    "proc_countries.to_csv('proc_countries.csv', index=False)"
   ]
  },
  {
   "cell_type": "code",
   "execution_count": 178,
   "metadata": {},
   "outputs": [],
   "source": [
    "proc_neighborhood_groups['name'] = neighbourhoods['neighbourhood_group'].unique()\n",
    "null = proc_neighborhood_groups[proc_neighborhood_groups['name'].isnull()].index\n",
    "proc_neighborhood_groups.drop(null, inplace=True)\n",
    "proc_neighborhood_groups['id'] = range(1, len(proc_neighborhood_groups) + 1)\n",
    "\n",
    "proc_neighborhood_groups.to_csv('proc_neighborhood_groups.csv', index=False)"
   ]
  },
  {
   "cell_type": "code",
   "execution_count": 179,
   "metadata": {},
   "outputs": [],
   "source": [
    "proc_neighborhoods['id'] = range(1, len(neighbourhoods) + 1)\n",
    "mapping = dict(proc_neighborhood_groups[['name', 'id']].values)\n",
    "proc_neighborhoods['neighborhood_group_id'] = proc_neighborhoods['neighborhood_group_id'].map(mapping)\n",
    "proc_neighborhoods['neighborhood_group_id'] = proc_neighborhoods['neighborhood_group_id'].fillna(0)\n",
    "proc_neighborhoods['neighborhood_group_id'] = proc_neighborhoods['neighborhood_group_id'].astype(int)\n",
    "proc_neighborhoods['neighborhood_group_id'] = proc_neighborhoods['neighborhood_group_id'].replace(0, np.nan)\n",
    "\n",
    "proc_neighborhoods.to_csv('proc_neighborhoods.csv', index=False)"
   ]
  },
  {
   "cell_type": "code",
   "execution_count": 180,
   "metadata": {},
   "outputs": [],
   "source": [
    "proc_listings['neighbourhood_id'] = proc_listings['neighbourhood_id'].map(dict(proc_neighborhoods[['name', 'id']].values))\n",
    "\n",
    "proc_listings.to_csv('proc_listings.csv', index=False)"
   ]
  },
  {
   "cell_type": "code",
   "execution_count": 181,
   "metadata": {},
   "outputs": [
    {
     "ename": "KeyboardInterrupt",
     "evalue": "",
     "output_type": "error",
     "traceback": [
      "\u001b[0;31m---------------------------------------------------------------------------\u001b[0m",
      "\u001b[0;31mKeyboardInterrupt\u001b[0m                         Traceback (most recent call last)",
      "Cell \u001b[0;32mIn[181], line 3\u001b[0m\n\u001b[1;32m      1\u001b[0m boolean_map \u001b[38;5;241m=\u001b[39m {\u001b[38;5;124m'\u001b[39m\u001b[38;5;124mt\u001b[39m\u001b[38;5;124m'\u001b[39m: \u001b[38;5;28;01mTrue\u001b[39;00m, \u001b[38;5;124m'\u001b[39m\u001b[38;5;124mf\u001b[39m\u001b[38;5;124m'\u001b[39m: \u001b[38;5;28;01mFalse\u001b[39;00m}\n\u001b[1;32m      2\u001b[0m proc_calendar[\u001b[38;5;124m'\u001b[39m\u001b[38;5;124mavailable\u001b[39m\u001b[38;5;124m'\u001b[39m] \u001b[38;5;241m=\u001b[39m proc_calendar[\u001b[38;5;124m'\u001b[39m\u001b[38;5;124mavailable\u001b[39m\u001b[38;5;124m'\u001b[39m]\u001b[38;5;241m.\u001b[39mmap(boolean_map)\n\u001b[0;32m----> 3\u001b[0m proc_calendar[\u001b[38;5;124m'\u001b[39m\u001b[38;5;124mprice\u001b[39m\u001b[38;5;124m'\u001b[39m] \u001b[38;5;241m=\u001b[39m \u001b[43mproc_calendar\u001b[49m\u001b[43m[\u001b[49m\u001b[38;5;124;43m'\u001b[39;49m\u001b[38;5;124;43mprice\u001b[39;49m\u001b[38;5;124;43m'\u001b[39;49m\u001b[43m]\u001b[49m\u001b[38;5;241;43m.\u001b[39;49m\u001b[43mstr\u001b[49m\u001b[38;5;241;43m.\u001b[39;49m\u001b[43mreplace\u001b[49m\u001b[43m(\u001b[49m\u001b[38;5;124;43m'\u001b[39;49m\u001b[38;5;124;43m$\u001b[39;49m\u001b[38;5;124;43m'\u001b[39;49m\u001b[43m,\u001b[49m\u001b[43m \u001b[49m\u001b[38;5;124;43m'\u001b[39;49m\u001b[38;5;124;43m'\u001b[39;49m\u001b[43m)\u001b[49m\u001b[38;5;241;43m.\u001b[39;49m\u001b[43mstr\u001b[49m\u001b[38;5;241;43m.\u001b[39;49m\u001b[43mreplace\u001b[49m\u001b[43m(\u001b[49m\u001b[38;5;124;43m'\u001b[39;49m\u001b[38;5;124;43m,\u001b[39;49m\u001b[38;5;124;43m'\u001b[39;49m\u001b[43m,\u001b[49m\u001b[43m \u001b[49m\u001b[38;5;124;43m'\u001b[39;49m\u001b[38;5;124;43m'\u001b[39;49m\u001b[43m)\u001b[49m\u001b[38;5;241;43m.\u001b[39;49m\u001b[43mastype\u001b[49m\u001b[43m(\u001b[49m\u001b[38;5;28;43mfloat\u001b[39;49m\u001b[43m)\u001b[49m\n\u001b[1;32m      4\u001b[0m proc_calendar[\u001b[38;5;124m'\u001b[39m\u001b[38;5;124madjusted_price\u001b[39m\u001b[38;5;124m'\u001b[39m] \u001b[38;5;241m=\u001b[39m proc_calendar[\u001b[38;5;124m'\u001b[39m\u001b[38;5;124madjusted_price\u001b[39m\u001b[38;5;124m'\u001b[39m]\u001b[38;5;241m.\u001b[39mstr\u001b[38;5;241m.\u001b[39mreplace(\u001b[38;5;124m'\u001b[39m\u001b[38;5;124m$\u001b[39m\u001b[38;5;124m'\u001b[39m, \u001b[38;5;124m'\u001b[39m\u001b[38;5;124m'\u001b[39m)\u001b[38;5;241m.\u001b[39mstr\u001b[38;5;241m.\u001b[39mreplace(\u001b[38;5;124m'\u001b[39m\u001b[38;5;124m,\u001b[39m\u001b[38;5;124m'\u001b[39m, \u001b[38;5;124m'\u001b[39m\u001b[38;5;124m'\u001b[39m)\u001b[38;5;241m.\u001b[39mastype(\u001b[38;5;28mfloat\u001b[39m)\n\u001b[1;32m      6\u001b[0m proc_calendar\u001b[38;5;241m.\u001b[39mto_csv(\u001b[38;5;124m'\u001b[39m\u001b[38;5;124mproc_calendar.csv\u001b[39m\u001b[38;5;124m'\u001b[39m, index\u001b[38;5;241m=\u001b[39m\u001b[38;5;28;01mFalse\u001b[39;00m)\n",
      "File \u001b[0;32m~/opt/anaconda3/envs/Summer_Project/lib/python3.12/site-packages/pandas/core/generic.py:6643\u001b[0m, in \u001b[0;36mNDFrame.astype\u001b[0;34m(self, dtype, copy, errors)\u001b[0m\n\u001b[1;32m   6637\u001b[0m     results \u001b[38;5;241m=\u001b[39m [\n\u001b[1;32m   6638\u001b[0m         ser\u001b[38;5;241m.\u001b[39mastype(dtype, copy\u001b[38;5;241m=\u001b[39mcopy, errors\u001b[38;5;241m=\u001b[39merrors) \u001b[38;5;28;01mfor\u001b[39;00m _, ser \u001b[38;5;129;01min\u001b[39;00m \u001b[38;5;28mself\u001b[39m\u001b[38;5;241m.\u001b[39mitems()\n\u001b[1;32m   6639\u001b[0m     ]\n\u001b[1;32m   6641\u001b[0m \u001b[38;5;28;01melse\u001b[39;00m:\n\u001b[1;32m   6642\u001b[0m     \u001b[38;5;66;03m# else, only a single dtype is given\u001b[39;00m\n\u001b[0;32m-> 6643\u001b[0m     new_data \u001b[38;5;241m=\u001b[39m \u001b[38;5;28;43mself\u001b[39;49m\u001b[38;5;241;43m.\u001b[39;49m\u001b[43m_mgr\u001b[49m\u001b[38;5;241;43m.\u001b[39;49m\u001b[43mastype\u001b[49m\u001b[43m(\u001b[49m\u001b[43mdtype\u001b[49m\u001b[38;5;241;43m=\u001b[39;49m\u001b[43mdtype\u001b[49m\u001b[43m,\u001b[49m\u001b[43m \u001b[49m\u001b[43mcopy\u001b[49m\u001b[38;5;241;43m=\u001b[39;49m\u001b[43mcopy\u001b[49m\u001b[43m,\u001b[49m\u001b[43m \u001b[49m\u001b[43merrors\u001b[49m\u001b[38;5;241;43m=\u001b[39;49m\u001b[43merrors\u001b[49m\u001b[43m)\u001b[49m\n\u001b[1;32m   6644\u001b[0m     res \u001b[38;5;241m=\u001b[39m \u001b[38;5;28mself\u001b[39m\u001b[38;5;241m.\u001b[39m_constructor_from_mgr(new_data, axes\u001b[38;5;241m=\u001b[39mnew_data\u001b[38;5;241m.\u001b[39maxes)\n\u001b[1;32m   6645\u001b[0m     \u001b[38;5;28;01mreturn\u001b[39;00m res\u001b[38;5;241m.\u001b[39m__finalize__(\u001b[38;5;28mself\u001b[39m, method\u001b[38;5;241m=\u001b[39m\u001b[38;5;124m\"\u001b[39m\u001b[38;5;124mastype\u001b[39m\u001b[38;5;124m\"\u001b[39m)\n",
      "File \u001b[0;32m~/opt/anaconda3/envs/Summer_Project/lib/python3.12/site-packages/pandas/core/internals/managers.py:430\u001b[0m, in \u001b[0;36mBaseBlockManager.astype\u001b[0;34m(self, dtype, copy, errors)\u001b[0m\n\u001b[1;32m    427\u001b[0m \u001b[38;5;28;01melif\u001b[39;00m using_copy_on_write():\n\u001b[1;32m    428\u001b[0m     copy \u001b[38;5;241m=\u001b[39m \u001b[38;5;28;01mFalse\u001b[39;00m\n\u001b[0;32m--> 430\u001b[0m \u001b[38;5;28;01mreturn\u001b[39;00m \u001b[38;5;28;43mself\u001b[39;49m\u001b[38;5;241;43m.\u001b[39;49m\u001b[43mapply\u001b[49m\u001b[43m(\u001b[49m\n\u001b[1;32m    431\u001b[0m \u001b[43m    \u001b[49m\u001b[38;5;124;43m\"\u001b[39;49m\u001b[38;5;124;43mastype\u001b[39;49m\u001b[38;5;124;43m\"\u001b[39;49m\u001b[43m,\u001b[49m\n\u001b[1;32m    432\u001b[0m \u001b[43m    \u001b[49m\u001b[43mdtype\u001b[49m\u001b[38;5;241;43m=\u001b[39;49m\u001b[43mdtype\u001b[49m\u001b[43m,\u001b[49m\n\u001b[1;32m    433\u001b[0m \u001b[43m    \u001b[49m\u001b[43mcopy\u001b[49m\u001b[38;5;241;43m=\u001b[39;49m\u001b[43mcopy\u001b[49m\u001b[43m,\u001b[49m\n\u001b[1;32m    434\u001b[0m \u001b[43m    \u001b[49m\u001b[43merrors\u001b[49m\u001b[38;5;241;43m=\u001b[39;49m\u001b[43merrors\u001b[49m\u001b[43m,\u001b[49m\n\u001b[1;32m    435\u001b[0m \u001b[43m    \u001b[49m\u001b[43musing_cow\u001b[49m\u001b[38;5;241;43m=\u001b[39;49m\u001b[43musing_copy_on_write\u001b[49m\u001b[43m(\u001b[49m\u001b[43m)\u001b[49m\u001b[43m,\u001b[49m\n\u001b[1;32m    436\u001b[0m \u001b[43m\u001b[49m\u001b[43m)\u001b[49m\n",
      "File \u001b[0;32m~/opt/anaconda3/envs/Summer_Project/lib/python3.12/site-packages/pandas/core/internals/managers.py:363\u001b[0m, in \u001b[0;36mBaseBlockManager.apply\u001b[0;34m(self, f, align_keys, **kwargs)\u001b[0m\n\u001b[1;32m    361\u001b[0m         applied \u001b[38;5;241m=\u001b[39m b\u001b[38;5;241m.\u001b[39mapply(f, \u001b[38;5;241m*\u001b[39m\u001b[38;5;241m*\u001b[39mkwargs)\n\u001b[1;32m    362\u001b[0m     \u001b[38;5;28;01melse\u001b[39;00m:\n\u001b[0;32m--> 363\u001b[0m         applied \u001b[38;5;241m=\u001b[39m \u001b[38;5;28;43mgetattr\u001b[39;49m\u001b[43m(\u001b[49m\u001b[43mb\u001b[49m\u001b[43m,\u001b[49m\u001b[43m \u001b[49m\u001b[43mf\u001b[49m\u001b[43m)\u001b[49m\u001b[43m(\u001b[49m\u001b[38;5;241;43m*\u001b[39;49m\u001b[38;5;241;43m*\u001b[39;49m\u001b[43mkwargs\u001b[49m\u001b[43m)\u001b[49m\n\u001b[1;32m    364\u001b[0m     result_blocks \u001b[38;5;241m=\u001b[39m extend_blocks(applied, result_blocks)\n\u001b[1;32m    366\u001b[0m out \u001b[38;5;241m=\u001b[39m \u001b[38;5;28mtype\u001b[39m(\u001b[38;5;28mself\u001b[39m)\u001b[38;5;241m.\u001b[39mfrom_blocks(result_blocks, \u001b[38;5;28mself\u001b[39m\u001b[38;5;241m.\u001b[39maxes)\n",
      "File \u001b[0;32m~/opt/anaconda3/envs/Summer_Project/lib/python3.12/site-packages/pandas/core/internals/blocks.py:758\u001b[0m, in \u001b[0;36mBlock.astype\u001b[0;34m(self, dtype, copy, errors, using_cow, squeeze)\u001b[0m\n\u001b[1;32m    755\u001b[0m         \u001b[38;5;28;01mraise\u001b[39;00m \u001b[38;5;167;01mValueError\u001b[39;00m(\u001b[38;5;124m\"\u001b[39m\u001b[38;5;124mCan not squeeze with more than one column.\u001b[39m\u001b[38;5;124m\"\u001b[39m)\n\u001b[1;32m    756\u001b[0m     values \u001b[38;5;241m=\u001b[39m values[\u001b[38;5;241m0\u001b[39m, :]  \u001b[38;5;66;03m# type: ignore[call-overload]\u001b[39;00m\n\u001b[0;32m--> 758\u001b[0m new_values \u001b[38;5;241m=\u001b[39m \u001b[43mastype_array_safe\u001b[49m\u001b[43m(\u001b[49m\u001b[43mvalues\u001b[49m\u001b[43m,\u001b[49m\u001b[43m \u001b[49m\u001b[43mdtype\u001b[49m\u001b[43m,\u001b[49m\u001b[43m \u001b[49m\u001b[43mcopy\u001b[49m\u001b[38;5;241;43m=\u001b[39;49m\u001b[43mcopy\u001b[49m\u001b[43m,\u001b[49m\u001b[43m \u001b[49m\u001b[43merrors\u001b[49m\u001b[38;5;241;43m=\u001b[39;49m\u001b[43merrors\u001b[49m\u001b[43m)\u001b[49m\n\u001b[1;32m    760\u001b[0m new_values \u001b[38;5;241m=\u001b[39m maybe_coerce_values(new_values)\n\u001b[1;32m    762\u001b[0m refs \u001b[38;5;241m=\u001b[39m \u001b[38;5;28;01mNone\u001b[39;00m\n",
      "File \u001b[0;32m~/opt/anaconda3/envs/Summer_Project/lib/python3.12/site-packages/pandas/core/dtypes/astype.py:237\u001b[0m, in \u001b[0;36mastype_array_safe\u001b[0;34m(values, dtype, copy, errors)\u001b[0m\n\u001b[1;32m    234\u001b[0m     dtype \u001b[38;5;241m=\u001b[39m dtype\u001b[38;5;241m.\u001b[39mnumpy_dtype\n\u001b[1;32m    236\u001b[0m \u001b[38;5;28;01mtry\u001b[39;00m:\n\u001b[0;32m--> 237\u001b[0m     new_values \u001b[38;5;241m=\u001b[39m \u001b[43mastype_array\u001b[49m\u001b[43m(\u001b[49m\u001b[43mvalues\u001b[49m\u001b[43m,\u001b[49m\u001b[43m \u001b[49m\u001b[43mdtype\u001b[49m\u001b[43m,\u001b[49m\u001b[43m \u001b[49m\u001b[43mcopy\u001b[49m\u001b[38;5;241;43m=\u001b[39;49m\u001b[43mcopy\u001b[49m\u001b[43m)\u001b[49m\n\u001b[1;32m    238\u001b[0m \u001b[38;5;28;01mexcept\u001b[39;00m (\u001b[38;5;167;01mValueError\u001b[39;00m, \u001b[38;5;167;01mTypeError\u001b[39;00m):\n\u001b[1;32m    239\u001b[0m     \u001b[38;5;66;03m# e.g. _astype_nansafe can fail on object-dtype of strings\u001b[39;00m\n\u001b[1;32m    240\u001b[0m     \u001b[38;5;66;03m#  trying to convert to float\u001b[39;00m\n\u001b[1;32m    241\u001b[0m     \u001b[38;5;28;01mif\u001b[39;00m errors \u001b[38;5;241m==\u001b[39m \u001b[38;5;124m\"\u001b[39m\u001b[38;5;124mignore\u001b[39m\u001b[38;5;124m\"\u001b[39m:\n",
      "File \u001b[0;32m~/opt/anaconda3/envs/Summer_Project/lib/python3.12/site-packages/pandas/core/dtypes/astype.py:182\u001b[0m, in \u001b[0;36mastype_array\u001b[0;34m(values, dtype, copy)\u001b[0m\n\u001b[1;32m    179\u001b[0m     values \u001b[38;5;241m=\u001b[39m values\u001b[38;5;241m.\u001b[39mastype(dtype, copy\u001b[38;5;241m=\u001b[39mcopy)\n\u001b[1;32m    181\u001b[0m \u001b[38;5;28;01melse\u001b[39;00m:\n\u001b[0;32m--> 182\u001b[0m     values \u001b[38;5;241m=\u001b[39m \u001b[43m_astype_nansafe\u001b[49m\u001b[43m(\u001b[49m\u001b[43mvalues\u001b[49m\u001b[43m,\u001b[49m\u001b[43m \u001b[49m\u001b[43mdtype\u001b[49m\u001b[43m,\u001b[49m\u001b[43m \u001b[49m\u001b[43mcopy\u001b[49m\u001b[38;5;241;43m=\u001b[39;49m\u001b[43mcopy\u001b[49m\u001b[43m)\u001b[49m\n\u001b[1;32m    184\u001b[0m \u001b[38;5;66;03m# in pandas we don't store numpy str dtypes, so convert to object\u001b[39;00m\n\u001b[1;32m    185\u001b[0m \u001b[38;5;28;01mif\u001b[39;00m \u001b[38;5;28misinstance\u001b[39m(dtype, np\u001b[38;5;241m.\u001b[39mdtype) \u001b[38;5;129;01mand\u001b[39;00m \u001b[38;5;28missubclass\u001b[39m(values\u001b[38;5;241m.\u001b[39mdtype\u001b[38;5;241m.\u001b[39mtype, \u001b[38;5;28mstr\u001b[39m):\n",
      "File \u001b[0;32m~/opt/anaconda3/envs/Summer_Project/lib/python3.12/site-packages/pandas/core/dtypes/astype.py:133\u001b[0m, in \u001b[0;36m_astype_nansafe\u001b[0;34m(arr, dtype, copy, skipna)\u001b[0m\n\u001b[1;32m    129\u001b[0m     \u001b[38;5;28;01mraise\u001b[39;00m \u001b[38;5;167;01mValueError\u001b[39;00m(msg)\n\u001b[1;32m    131\u001b[0m \u001b[38;5;28;01mif\u001b[39;00m copy \u001b[38;5;129;01mor\u001b[39;00m arr\u001b[38;5;241m.\u001b[39mdtype \u001b[38;5;241m==\u001b[39m \u001b[38;5;28mobject\u001b[39m \u001b[38;5;129;01mor\u001b[39;00m dtype \u001b[38;5;241m==\u001b[39m \u001b[38;5;28mobject\u001b[39m:\n\u001b[1;32m    132\u001b[0m     \u001b[38;5;66;03m# Explicit copy, or required since NumPy can't view from / to object.\u001b[39;00m\n\u001b[0;32m--> 133\u001b[0m     \u001b[38;5;28;01mreturn\u001b[39;00m \u001b[43marr\u001b[49m\u001b[38;5;241;43m.\u001b[39;49m\u001b[43mastype\u001b[49m\u001b[43m(\u001b[49m\u001b[43mdtype\u001b[49m\u001b[43m,\u001b[49m\u001b[43m \u001b[49m\u001b[43mcopy\u001b[49m\u001b[38;5;241;43m=\u001b[39;49m\u001b[38;5;28;43;01mTrue\u001b[39;49;00m\u001b[43m)\u001b[49m\n\u001b[1;32m    135\u001b[0m \u001b[38;5;28;01mreturn\u001b[39;00m arr\u001b[38;5;241m.\u001b[39mastype(dtype, copy\u001b[38;5;241m=\u001b[39mcopy)\n",
      "\u001b[0;31mKeyboardInterrupt\u001b[0m: "
     ]
    }
   ],
   "source": [
    "boolean_map = {'t': True, 'f': False}\n",
    "proc_calendar['available'] = proc_calendar['available'].map(boolean_map)\n",
    "proc_calendar['price'] = proc_calendar['price'].str.replace('$', '').str.replace(',', '').astype(float)\n",
    "proc_calendar['adjusted_price'] = proc_calendar['adjusted_price'].str.replace('$', '').str.replace(',', '').astype(float)\n",
    "\n",
    "proc_calendar.to_csv('proc_calendar.csv', index=False)"
   ]
  }
 ],
 "metadata": {
  "kernelspec": {
   "display_name": "Summer_Project",
   "language": "python",
   "name": "python3"
  },
  "language_info": {
   "codemirror_mode": {
    "name": "ipython",
    "version": 3
   },
   "file_extension": ".py",
   "mimetype": "text/x-python",
   "name": "python",
   "nbconvert_exporter": "python",
   "pygments_lexer": "ipython3",
   "version": "3.12.7"
  }
 },
 "nbformat": 4,
 "nbformat_minor": 2
}
